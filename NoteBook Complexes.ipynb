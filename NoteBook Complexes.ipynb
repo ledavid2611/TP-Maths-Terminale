{
 "cells": [
  {
   "cell_type": "markdown",
   "metadata": {},
   "source": [
    "# Nombres complexes"
   ]
  },
  {
   "cell_type": "markdown",
   "metadata": {},
   "source": [
    "Les nombres complexes sous Python se manipulent de façon assez naturelle, sauf que le nombre complexe $i$ est remplacé par la commande ```1j``` pour ne pas confondre avec l'indice $i$ qu'on utilise parfois dans les indexations (par exemple : $a_i$ etc)"
   ]
  },
  {
   "cell_type": "code",
   "execution_count": null,
   "metadata": {},
   "outputs": [],
   "source": [
    "# Shift + Entrée pour exécuter\n",
    "2 + 2 * 1j + 3 + 4* 1j"
   ]
  },
  {
   "cell_type": "code",
   "execution_count": null,
   "metadata": {},
   "outputs": [],
   "source": [
    "# Shift + Entrée pour exécuter\n",
    "(2 + 2 * 1j) * (3 + 4* 1j)"
   ]
  },
  {
   "cell_type": "code",
   "execution_count": null,
   "metadata": {},
   "outputs": [],
   "source": [
    "# Shift + Entrée pour exécuter\n",
    "(2 + 2 * 1j) / (3 + 4* 1j)"
   ]
  },
  {
   "cell_type": "markdown",
   "metadata": {},
   "source": [
    "Soient $z_1=2+i$, $z_2=1+3i$. Calculez $z_1+z_2$, $z_1z_2$, $\\dfrac{z_1}{z_2}$, $z_1^2$, $z_2^4$."
   ]
  },
  {
   "cell_type": "code",
   "execution_count": null,
   "metadata": {},
   "outputs": [],
   "source": [
    "# Tapez vos commandes ci-dessous puis Shift + Entrée pour afficher\n",
    "\n"
   ]
  },
  {
   "cell_type": "markdown",
   "metadata": {},
   "source": [
    "Double-cliquez **ici** pour voir la réponse\n",
    "\n",
    "<!-- \n",
    "z1 = 2 + 1j\n",
    "z2 = 1 + 3 * 1j\n",
    "print(z1 + z2)\n",
    "print(z1 * z2)\n",
    "print(z1 / z2)\n",
    "print(z1 ** 2)\n",
    "print(z2 ** 4)\n",
    "\n",
    "3+4j)\n",
    "(-1+7j)\n",
    "(0.49999999999999994-0.5j)\n",
    "(3+4j)\n",
    "(28-96j)\n",
    "-->"
   ]
  },
  {
   "cell_type": "markdown",
   "metadata": {},
   "source": [
    "Pour extraire la partie réelle ou la partie imaginaire d'un complexe, on utilise les méthodes ```z1.real``` et ``` z1.imag```. Extraire les parties réels et imaginaire de $z_2$ et $z_2^4$."
   ]
  },
  {
   "cell_type": "code",
   "execution_count": null,
   "metadata": {},
   "outputs": [],
   "source": [
    "# Tapez vos commandes ci-dessous puis Shift + Entrée pour afficher\n"
   ]
  },
  {
   "cell_type": "markdown",
   "metadata": {},
   "source": [
    "Double-cliquez **ici** pour voir la réponse\n",
    "\n",
    "<!-- \n",
    "z2.real\n",
    "z2.imag\n",
    "(z2 ** 4).real\n",
    "(z2 ** 4).imag\n",
    "-->"
   ]
  },
  {
   "cell_type": "markdown",
   "metadata": {},
   "source": [
    "Soit $z=\\dfrac{1+i\\sqrt{3}}{2}$. Faire afficher par le logiciel les $z^k$ pour $k$ allant de $0$ à $15$. (on pourra utiliser une boucle ```for```)"
   ]
  },
  {
   "cell_type": "code",
   "execution_count": null,
   "metadata": {},
   "outputs": [],
   "source": [
    "# Tapez vos commandes ci-dessous puis Shift + Entrée pour afficher\n",
    "from math import *\n",
    "\n"
   ]
  },
  {
   "cell_type": "markdown",
   "metadata": {},
   "source": [
    "Double-cliquez **ici** pour voir la réponse\n",
    "\n",
    "<!-- \n",
    "from math import *\n",
    "\n",
    "z = (1 + 1j * sqrt(3)) / 2\n",
    "\n",
    "for k in range(16):\n",
    "    print(z ** k)\n",
    "\n",
    "(1+0j)\n",
    "(0.5+0.8660254037844386j)\n",
    "(-0.4999999999999999+0.8660254037844386j)\n",
    "(-0.9999999999999998+1.1102230246251565e-16j)\n",
    "(-0.5-0.8660254037844384j)\n",
    "(0.49999999999999967-0.8660254037844385j)\n",
    "(0.9999999999999996-2.220446049250313e-16j)\n",
    "(0.5+0.8660254037844382j)\n",
    "(-0.49999999999999956+0.8660254037844384j)\n",
    "(-0.9999999999999994+2.7755575615628914e-16j)\n",
    "(-0.49999999999999994-0.8660254037844379j)\n",
    "(0.49999999999999933-0.8660254037844382j)\n",
    "(0.9999999999999993-3.885780586188048e-16j)\n",
    "(0.5+0.8660254037844377j)\n",
    "(-0.49999999999999917+0.8660254037844382j)\n",
    "(-0.9999999999999991+4.996003610813204e-16j)\n",
    "-->"
   ]
  },
  {
   "cell_type": "markdown",
   "metadata": {},
   "source": [
    "Bien entendu, le logiciel donne des valeurs approchées. On peut représenter les points d'affixes $z^k$. La méthode étant de regrouper les abscisses de ces points dans une liste et les ordonnées dans une autre comme ci-dessous."
   ]
  },
  {
   "cell_type": "code",
   "execution_count": null,
   "metadata": {},
   "outputs": [],
   "source": [
    "# Shift + Entrée pour afficher\n",
    "\n",
    "from math import *\n",
    "import matplotlib.pyplot as plt\n",
    "\n",
    "z =  (1 + 1j * sqrt(3)) / 2\n",
    "Liste = [z ** k for k in range(16)]\n",
    "Liste"
   ]
  },
  {
   "cell_type": "code",
   "execution_count": null,
   "metadata": {},
   "outputs": [],
   "source": [
    "# Shift + Entrée pour afficher\n",
    "\n",
    "from math import *\n",
    "import matplotlib.pyplot as plt\n",
    "\n",
    "a = 1 + 1j\n",
    "b = 2 - 3 * 1j\n",
    "Liste = [a, b]\n",
    "abscisses = [c.real for c in Liste]\n",
    "ordonnées = [c.imag for c in Liste]\n",
    "\n",
    "print(\"Les abscisses sont\", abscisses)\n",
    "print(\"Les ordonnées sont\", ordonnées)\n",
    "\n",
    "plt.scatter(abscisses, ordonnées)\n",
    "plt.show()"
   ]
  },
  {
   "cell_type": "markdown",
   "metadata": {},
   "source": [
    "En vous inspirant de ce qui précède, tapez un algorithme qui permet d'afficer les les points d'affixes $z^k$ pour $k$ allant de $0$ à $15$."
   ]
  },
  {
   "cell_type": "code",
   "execution_count": null,
   "metadata": {},
   "outputs": [],
   "source": [
    "# Tapez vos commandes ci-dessous puis Shift + Entrée pour afficher\n",
    "\n",
    "from math import *\n",
    "import matplotlib.pyplot as plt\n"
   ]
  },
  {
   "cell_type": "markdown",
   "metadata": {},
   "source": [
    "Double-cliquez **ici** pour voir la réponse\n",
    "\n",
    "<!-- \n",
    "from math import *\n",
    "import matplotlib.pyplot as plt\n",
    "\n",
    "z =  (1 + 1j * sqrt(3)) / 2\n",
    "Liste = [z ** k for k in range(16)]\n",
    "abscisses = [c.real for c in Liste]\n",
    "ordonnées = [c.imag for c in Liste]\n",
    "\n",
    "print(\"Les abscisses sont\", abscisses)\n",
    "print(\"Les ordonnées sont\", ordonnées)\n",
    "\n",
    "plt.scatter(abscisses, ordonnées)\n",
    "plt.show()\n",
    "\n",
    "Les abscisses sont [1.0, 0.5, -0.4999999999999999, -0.9999999999999998, -0.5, 0.49999999999999967, 0.9999999999999996, 0.5, -0.49999999999999956, -0.9999999999999994, -0.49999999999999994, 0.49999999999999933, 0.9999999999999993, 0.5, -0.49999999999999917, -0.9999999999999991]\n",
    "Les ordonnées sont [0.0, 0.8660254037844386, 0.8660254037844386, 1.1102230246251565e-16, -0.8660254037844384, -0.8660254037844385, -2.220446049250313e-16, 0.8660254037844382, 0.8660254037844384, 2.7755575615628914e-16, -0.8660254037844379, -0.8660254037844382, -3.885780586188048e-16, 0.8660254037844377, 0.8660254037844382, 4.996003610813204e-16]\n",
    "-->"
   ]
  },
  {
   "cell_type": "markdown",
   "metadata": {},
   "source": [
    "Quelle conjecture peut-on faire sur le nombre de valeurs prise par $z^k$ pour $k$ entier ?"
   ]
  },
  {
   "cell_type": "code",
   "execution_count": null,
   "metadata": {},
   "outputs": [],
   "source": [
    "# tapez votre réponse ici\n"
   ]
  },
  {
   "cell_type": "markdown",
   "metadata": {},
   "source": [
    "Double-cliquez **ici** pour voir la réponse\n",
    "\n",
    "<!-- \n",
    "Il y en a exactement 6. \n",
    "-->"
   ]
  },
  {
   "cell_type": "markdown",
   "metadata": {},
   "source": [
    " Calculez ces valeurs de façon exacte."
   ]
  },
  {
   "cell_type": "code",
   "execution_count": null,
   "metadata": {},
   "outputs": [],
   "source": [
    "# Prenez un brouillon puis écrire ces valeurs "
   ]
  },
  {
   "cell_type": "markdown",
   "metadata": {},
   "source": [
    "Double-cliquez **ici** pour voir la réponse\n",
    "\n",
    "<!-- \n",
    "Voir la question suivante\n",
    "-->"
   ]
  },
  {
   "cell_type": "markdown",
   "metadata": {},
   "source": [
    "Démontrer par récurrence que pour tout $n\\in\\mathbb{N}$ :\n",
    "1.  $z^{6n} = 1$\n",
    "2.  $z^{6n+1} = \\dfrac{1+i\\sqrt{3}}{2}$\n",
    "3.  $z^{6n+2} = \\dfrac{-1+i\\sqrt{3}}{2}$\n",
    "4.  $z^{6n+3} = -1$\n",
    "5.  $z^{6n+4} = \\dfrac{-1-i\\sqrt{3}}{2}$\n",
    "6.  $z^{6n+2} = \\dfrac{1-i\\sqrt{3}}{2}$"
   ]
  },
  {
   "cell_type": "markdown",
   "metadata": {},
   "source": [
    "Double-cliquez **ici** pour voir la réponse\n",
    "\n",
    "<!-- \n",
    "Laissé aux lecteurs\n",
    "-->"
   ]
  },
  {
   "cell_type": "markdown",
   "metadata": {},
   "source": [
    "Bonus : Représenter les points $M_k$ d'affixes $z_k = 1.05^k (1 + i)$ pour $k$ allant de $0$ à $100$."
   ]
  },
  {
   "cell_type": "code",
   "execution_count": null,
   "metadata": {},
   "outputs": [],
   "source": [
    "# Tapez vos commandes ci-dessous puis Shift + Entrée pour afficher\n"
   ]
  },
  {
   "cell_type": "markdown",
   "metadata": {},
   "source": [
    "Double-cliquez **ici** pour voir la réponse\n",
    "\n",
    "<!-- \n",
    "\n",
    "from math import *\n",
    "import matplotlib.pyplot as plt\n",
    "\n",
    "z =  1 + 1j \n",
    "Liste = [1.05 ** k * z for k in range(101)]\n",
    "abscisses = [c.real for c in Liste]\n",
    "ordonnées = [c.imag for c in Liste]\n",
    "\n",
    "plt.scatter(abscisses, ordonnées)\n",
    "plt.show()\n",
    "-->"
   ]
  },
  {
   "cell_type": "markdown",
   "metadata": {},
   "source": [
    "Bonus : Même question avec les points $M_k$ d'affixes $z_k = (1,2 + 0,08 i)^k$ pour $k$ allant de $0$ à $100$."
   ]
  },
  {
   "cell_type": "code",
   "execution_count": null,
   "metadata": {},
   "outputs": [],
   "source": [
    "# Tapez vos commandes ci-dessous puis Shift + Entrée pour afficher\n"
   ]
  },
  {
   "cell_type": "markdown",
   "metadata": {},
   "source": [
    "Double-cliquez **ici** pour voir la réponse\n",
    "\n",
    "<!-- \n",
    "\n",
    "from math import *\n",
    "import matplotlib.pyplot as plt\n",
    "\n",
    "z = 1.2 + 0.08 * 1j\n",
    "Liste = [z ** k for k in range(101)]\n",
    "abscisses = [c.real for c in Liste]\n",
    "ordonnées = [c.imag for c in Liste]\n",
    "\n",
    "plt.scatter(abscisses, ordonnées)\n",
    "plt.show()\n",
    "-->"
   ]
  },
  {
   "cell_type": "markdown",
   "metadata": {},
   "source": [
    "Bonus : modifier l'algorithme précédent pour obtenir une spirale bien prononcée."
   ]
  },
  {
   "cell_type": "code",
   "execution_count": null,
   "metadata": {},
   "outputs": [],
   "source": [
    "# Tapez vos commandes ci-dessous puis Shift + Entrée pour afficher\n",
    "\n"
   ]
  },
  {
   "cell_type": "markdown",
   "metadata": {},
   "source": [
    "Double-cliquez **ici** pour voir la réponse\n",
    "\n",
    "<!-- \n",
    "from math import *\n",
    "import matplotlib.pyplot as plt\n",
    "\n",
    "z = 1.05 + 0.34 * 1j\n",
    "Liste = [z ** k for k in range(101)]\n",
    "abscisses = [c.real for c in Liste]\n",
    "ordonnées = [c.imag for c in Liste]\n",
    "\n",
    "plt.scatter(abscisses, ordonnées)\n",
    "plt.show()\n",
    "-->"
   ]
  },
  {
   "cell_type": "code",
   "execution_count": null,
   "metadata": {},
   "outputs": [],
   "source": []
  }
 ],
 "metadata": {
  "kernelspec": {
   "display_name": "Python 3",
   "language": "python",
   "name": "python3"
  },
  "language_info": {
   "codemirror_mode": {
    "name": "ipython",
    "version": 3
   },
   "file_extension": ".py",
   "mimetype": "text/x-python",
   "name": "python",
   "nbconvert_exporter": "python",
   "pygments_lexer": "ipython3",
   "version": "3.7.3"
  }
 },
 "nbformat": 4,
 "nbformat_minor": 2
}
