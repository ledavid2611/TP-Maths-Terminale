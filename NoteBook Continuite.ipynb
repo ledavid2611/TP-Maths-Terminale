{
 "cells": [
  {
   "cell_type": "markdown",
   "metadata": {},
   "source": [
    "# Méthode de dichotomie pour la résolution d'une équation du type $f(x)=0$"
   ]
  },
  {
   "cell_type": "markdown",
   "metadata": {},
   "source": [
    "## Quelqus éléments de langage Python"
   ]
  },
  {
   "cell_type": "markdown",
   "metadata": {},
   "source": [
    "Testez les commandes suivantes : ```2 ** 2```, ```5 ** 2``` et ``` 2 ** 3```. Que permet de faire la commande ```**``` ?"
   ]
  },
  {
   "cell_type": "code",
   "execution_count": 1,
   "metadata": {},
   "outputs": [],
   "source": [
    "# Tapez vos commandes ci-dessous puis Shift + Entrée pour exécuter\n"
   ]
  },
  {
   "cell_type": "markdown",
   "metadata": {},
   "source": [
    "Double-cliquez **ici** pour voir la réponse\n",
    "\n",
    "<!--\n",
    "2 ** 2\n",
    "4\n",
    "5 ** 2\n",
    "25\n",
    "2 ** 3\n",
    "8\n",
    "** permet de faire des puissances\n",
    "-->"
   ]
  },
  {
   "cell_type": "markdown",
   "metadata": {},
   "source": [
    "Pour créer une fonction on utilise la commande suivante:"
   ]
  },
  {
   "cell_type": "code",
   "execution_count": 2,
   "metadata": {},
   "outputs": [],
   "source": [
    "# Shift + Entrée pour charger la fonction\n",
    "def f(x):\n",
    "   return x ** 2"
   ]
  },
  {
   "cell_type": "markdown",
   "metadata": {},
   "source": [
    "Calculez $f(2)$, $f(3)$ et $f(5)$ en tapant simplement ces commandes puis Shift+Entrée."
   ]
  },
  {
   "cell_type": "code",
   "execution_count": 3,
   "metadata": {},
   "outputs": [],
   "source": [
    "# Tapez vos commandes puis Shift + Entrée pur exécuter\n"
   ]
  },
  {
   "cell_type": "markdown",
   "metadata": {},
   "source": [
    "Double-cliquez **ici** pour voir la réponse\n",
    "\n",
    "<!--\n",
    "f(2)\n",
    "4\n",
    "f(3)\n",
    "9\n",
    "f(5)\n",
    "25\n",
    "-->"
   ]
  },
  {
   "cell_type": "markdown",
   "metadata": {},
   "source": [
    "Créez la fonction cube appelée $g$."
   ]
  },
  {
   "cell_type": "code",
   "execution_count": 4,
   "metadata": {},
   "outputs": [],
   "source": [
    "#Tapez votre fonction ci-dessous puis Shift + Entrée pour la charger"
   ]
  },
  {
   "cell_type": "markdown",
   "metadata": {},
   "source": [
    "Double-cliquez **ici** pour voir la réponse\n",
    "\n",
    "<!--\n",
    "def f(x):\n",
    "   return x ** 3\n",
    "-->"
   ]
  },
  {
   "cell_type": "markdown",
   "metadata": {},
   "source": [
    "## Le problème"
   ]
  },
  {
   "cell_type": "markdown",
   "metadata": {},
   "source": [
    "Situation du problème : Vous tirez d'une boîte un papier sur lequel est inscrit un nombre entier entre $0$ et $1000$. Votre partenaire doit le deviner en donnant à chaque tour des nombres. Vous ne pouvez dire que \"plus grand\" ou \"plus petit\" à chaque fois. Quelle stratégie utilisera-t-il ? "
   ]
  },
  {
   "cell_type": "code",
   "execution_count": 5,
   "metadata": {},
   "outputs": [],
   "source": [
    "# Tapez votre réponse ici\n"
   ]
  },
  {
   "cell_type": "markdown",
   "metadata": {},
   "source": [
    "Double-cliquez **ici** pour voir la réponse.\n",
    "\n",
    "<!--\n",
    "Une bonne stratégie consiste à choisir d'abord le centre, 500, puis si le nombre est plus petit, prendre 250 et sinon 750. Répéter le processus par la suite.\n",
    "\n",
    "-->"
   ]
  },
  {
   "cell_type": "markdown",
   "metadata": {},
   "source": [
    "On considère l'équation $f(x)=0$ où $f$ est la fonction définie sur $[-1;~1]$ par $f(x)=x^3+x+1$. On sait que cette équation admet une unique solution $c$ dans l'intervalle $[-1;1]$. Calculer des $f(-1)$, $f(0)$ et $f(1)$. À quel intervalle appartient alors $c$ ? Quel est alors le signe de $f(-1)\\times f(0)$ ?"
   ]
  },
  {
   "cell_type": "code",
   "execution_count": 6,
   "metadata": {},
   "outputs": [],
   "source": [
    "# Faire vos calculs ici\n"
   ]
  },
  {
   "cell_type": "code",
   "execution_count": 7,
   "metadata": {},
   "outputs": [],
   "source": [
    "# Tapez votre réponse ici"
   ]
  },
  {
   "cell_type": "markdown",
   "metadata": {},
   "source": [
    "Double-cliquez **ici** pour voir la réponse.\n",
    "\n",
    "<!--\n",
    "(-1) ** 3 + (-1) + 1 donne -1\n",
    "0 ** 3 + 0 + 1 donne 1\n",
    "1 ** 3 + 1 + 1 donne 3\n",
    "Le TVI assure que c appartient alors à [-1;0]\n",
    "f(-1) * f(0)<0\n",
    "-->"
   ]
  },
  {
   "cell_type": "markdown",
   "metadata": {},
   "source": [
    "Appliquer cette démarche au nouvel intervalle trouvé contenant $c$. Dans quel intervalle se trouve alors la solution?"
   ]
  },
  {
   "cell_type": "code",
   "execution_count": 8,
   "metadata": {},
   "outputs": [],
   "source": [
    "# Faire vos calculs ici\n"
   ]
  },
  {
   "cell_type": "code",
   "execution_count": 9,
   "metadata": {},
   "outputs": [],
   "source": [
    "# Tapez votre réponse ici"
   ]
  },
  {
   "cell_type": "markdown",
   "metadata": {},
   "source": [
    "Double-cliquez **ici** pour voir la réponse.\n",
    "\n",
    "<!--\n",
    "(-1/2) ** 3 + (- 1 / 2) + 1 donne 0,375 > 0\n",
    "donc c appartient à [- 1 / 2;0]\n",
    "\n",
    "-->"
   ]
  },
  {
   "cell_type": "markdown",
   "metadata": {},
   "source": [
    " On réitère ce démarche (méthode par **dichotomie**), jusqu'à ce qu'on ait encadré la solution par deux réels distants de moins de $10^{-2}$. On se propose d'utiliser l'algorithme suivant en **Python**.\n",
    "```\n",
    "def f(x):\n",
    "    return x ** 3 + x + 1\n",
    "\n",
    "def dichotomie(a,b,e):\n",
    "    while b - a >= e :\n",
    "        c = (a + b) / 2\n",
    "        if f(a) * f(c) < 0:\n",
    "            b = c\n",
    "        else :\n",
    "            a = c\n",
    "    return c\n",
    "```\n",
    "Programmer cet algorithme et donner une valeur approchée de $c$ à $10^{-2}$ près."
   ]
  },
  {
   "cell_type": "code",
   "execution_count": 10,
   "metadata": {},
   "outputs": [],
   "source": [
    "# Tapez l'algorithme ici et Shift + Entrée pour charger\n",
    "# Utilisez la fonction dictochomie en utilisant les arguments appropriés pour a, b et c puis Shift puis entrée\n"
   ]
  },
  {
   "cell_type": "markdown",
   "metadata": {},
   "source": [
    "Double-cliquez **ici** pour voir la réponse.\n",
    "\n",
    "<!--\n",
    "def f(x):\n",
    "    return x ** 3 + x + 1\n",
    "\n",
    "def dichotomie(a,b,e):\n",
    "    while b - a >= e :\n",
    "        c = (a + b) / 2\n",
    "        if f(a) * f(c) < 0:\n",
    "            b = c\n",
    "        else :\n",
    "            a = c\n",
    "    return c\n",
    "\n",
    "dichotomie(-1,1,10 ** (-2))\n",
    "\n",
    "-0.6796875\n",
    "-->"
   ]
  },
  {
   "cell_type": "markdown",
   "metadata": {},
   "source": [
    "Modifier cet algorithme pour résoudre l'équation $x^3+2x-1=0$ avec une précision de $10^{-3}$ dans $[-10;10]$. Vérifier votre réponse à l'aide d'un logiciel de géométrie dynamique (Geogebra)."
   ]
  },
  {
   "cell_type": "code",
   "execution_count": 11,
   "metadata": {},
   "outputs": [],
   "source": [
    "# Tapez vtre algorithme ici puis Shift + Entrée pour exécuter\n"
   ]
  },
  {
   "cell_type": "markdown",
   "metadata": {},
   "source": [
    "Double-cliquez **ici** pour voir la réponse.\n",
    "\n",
    "<!--\n",
    "def f(x):\n",
    "    return x ** 3 + 2 * x - 1\n",
    "\n",
    "def dichotomie(a,b,e):\n",
    "    while b - a >= e :\n",
    "        c = (a + b) / 2\n",
    "        if f(a) * f(c) < 0:\n",
    "            b = c\n",
    "        else :\n",
    "            a = c\n",
    "    return c\n",
    "\n",
    "dichotomie(-10,10,10 ** (-3))\n",
    "\n",
    "0.4534912109375\n",
    "-->"
   ]
  },
  {
   "cell_type": "markdown",
   "metadata": {},
   "source": [
    "Modifier cet algorithme pour résoudre l'équation $g(x)=0,5$ où  $g$ est la fonction définie sur $[0;+\\infty[$ par $g(x)=\\dfrac{x+1}{x^2+x+1}$ avec une précision de $10^{-3}$ dans $[0;10]$. Vérifier votre réponse à l'aide d'un logiciel de géométrie dynamique (Geogebra)."
   ]
  },
  {
   "cell_type": "code",
   "execution_count": 12,
   "metadata": {},
   "outputs": [],
   "source": [
    "# Tapez vtre algorithme ici puis Shift + Entrée pour exécuter\n"
   ]
  },
  {
   "cell_type": "markdown",
   "metadata": {},
   "source": [
    "Double-cliquez **ici** pour voir la réponse.\n",
    "\n",
    "<!--\n",
    "\n",
    "def f(x):\n",
    "    return (x + 1) / (x ** 2 + x + 1) - 0.5\n",
    "\n",
    "def dichotomie(a,b,e):\n",
    "    while b - a >= e :\n",
    "        c = (a + b) / 2\n",
    "        if f(a) * f(c) < 0 :\n",
    "            b = c\n",
    "        else :\n",
    "            a = c\n",
    "    return c\n",
    "\n",
    "dichotomie(0,10,10 ** (-3))\n",
    "1.6180419921875\n",
    "-->"
   ]
  },
  {
   "cell_type": "markdown",
   "metadata": {},
   "source": [
    "Bonus : Démontrer que l'équation $g(x)=0,5$ où  $g$ est la fonction définie sur $[0;+\\infty[$ par $g(x)=\\dfrac{x+1}{x^2+x+1}$ admet une unique solution $\\alpha$ dans $[0;+\\infty[$."
   ]
  },
  {
   "cell_type": "markdown",
   "metadata": {},
   "source": [
    "Double-cliquez **ici** pour voir la réponse.\n",
    "\n",
    "<!--\n",
    "Etudier le sens de variation de g en calculant sa dérivée sur $|0;+infty[$.\n",
    "\n",
    "-->"
   ]
  },
  {
   "cell_type": "code",
   "execution_count": null,
   "metadata": {},
   "outputs": [],
   "source": []
  }
 ],
 "metadata": {
  "kernelspec": {
   "display_name": "Python 3",
   "language": "python",
   "name": "python3"
  },
  "language_info": {
   "codemirror_mode": {
    "name": "ipython",
    "version": 3
   },
   "file_extension": ".py",
   "mimetype": "text/x-python",
   "name": "python",
   "nbconvert_exporter": "python",
   "pygments_lexer": "ipython3",
   "version": "3.7.3"
  }
 },
 "nbformat": 4,
 "nbformat_minor": 2
}
