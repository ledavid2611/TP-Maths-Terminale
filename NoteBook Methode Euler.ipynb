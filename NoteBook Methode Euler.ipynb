{
 "cells": [
  {
   "cell_type": "markdown",
   "metadata": {},
   "source": [
    "# Résolution par la méthode d’Euler de $y’ = ƒ$, de $y’ = ay + b$."
   ]
  },
  {
   "cell_type": "markdown",
   "metadata": {},
   "source": [
    "## Résolution par la méthode d’Euler de $y’ = ƒ$"
   ]
  },
  {
   "cell_type": "markdown",
   "metadata": {},
   "source": [
    "On considère l'intervalle $[0;1]$ qu'on souhaite subdiviser en sous-intervalles réguliers de longueur $1/4$ (**pas** de la subdivision). "
   ]
  },
  {
   "cell_type": "markdown",
   "metadata": {},
   "source": [
    "Donnez les valeurs de ces extémités."
   ]
  },
  {
   "cell_type": "code",
   "execution_count": null,
   "metadata": {},
   "outputs": [],
   "source": [
    "# Tapez votre réponse ici\n"
   ]
  },
  {
   "cell_type": "markdown",
   "metadata": {},
   "source": [
    "Double-cliquez **ici** pour voir la réponse\n",
    "\n",
    "<!--\n",
    "# 0, 0.25, 0.5, 0.75 et 1\n",
    "-->"
   ]
  },
  {
   "cell_type": "markdown",
   "metadata": {},
   "source": [
    "Dans le cas d'une subdivision de pas $1/n$, quelles sont les valeurs de ces extrémités? Combien en a-t-on ?"
   ]
  },
  {
   "cell_type": "code",
   "execution_count": null,
   "metadata": {},
   "outputs": [],
   "source": [
    "# Tapez votre réponse ici\n"
   ]
  },
  {
   "cell_type": "markdown",
   "metadata": {},
   "source": [
    "Double-cliquez **ici** pour voir la réponse\n",
    "\n",
    "<!--\n",
    "# 0/n, 1/n, 2/n, ...., n/n\n",
    "# i.e. k/n\n",
    "# on en a n+1\n",
    "-->"
   ]
  },
  {
   "cell_type": "markdown",
   "metadata": {},
   "source": [
    "On peut créer une **fonction** qu'on nommera ```subdivision``` qui permet de créer la liste des extrémités d'une sibdivision de pas $1/n$ où $n$ est un entier. On a vu que les éléments de cette liste sont $\\{ \\frac{k}{n}, \\mbox{pour $k$ allant de $0$ à $n$}\\}$. Cette écriture a inspiré une méthode pour construire des **listes en compréhension**."
   ]
  },
  {
   "cell_type": "code",
   "execution_count": null,
   "metadata": {},
   "outputs": [],
   "source": [
    "# Shift + Entrée pour excuter\n",
    "def subdivision(n): # création d'une fonction qui donne les extrémités d'une subdivision\n",
    "    return [k/n for k in range(n+1)] # création d'une liste en compréhension\n",
    "subdivision(4)"
   ]
  },
  {
   "cell_type": "markdown",
   "metadata": {},
   "source": [
    "Déterminer la liste des extémités de la subdivision régulière de l'intervalle $[0;1]$ avec un pas de $0.1$."
   ]
  },
  {
   "cell_type": "code",
   "execution_count": null,
   "metadata": {},
   "outputs": [],
   "source": [
    "# Tapez votre commande ci-dessous puis Shift + Entrée pour exécuter\n"
   ]
  },
  {
   "cell_type": "markdown",
   "metadata": {},
   "source": [
    "Double-cliquez **ici** pour voir la réponse\n",
    "\n",
    "<!--\n",
    "subdivision(10)\n",
    "-->"
   ]
  },
  {
   "cell_type": "markdown",
   "metadata": {},
   "source": [
    "Il s'agit d'une liste d'asbcisses, on peut la représenter par des points dont les abscisses sont ceux de la liste et dont l'ordonnée est $0$. Comme ci-dessous."
   ]
  },
  {
   "cell_type": "code",
   "execution_count": null,
   "metadata": {},
   "outputs": [],
   "source": [
    "# Shift + Entrée pour exécuter\n",
    "import matplotlib.pyplot as plt\n",
    "\n",
    "def subdivision(n) :\n",
    "    return [k/n for k in range(n+1)]\n",
    "\n",
    "ordonnées = [0] * len(subdivision(10)) # répète 0 dans la liste \n",
    "                    # autant de fois qu'il y a d'abscisses\n",
    "                    # dans subdivision, len() donne la longueur de a liste\n",
    "plt.scatter(subdivision(10),ordonnées) #nuage de points \n",
    "              #d'abscisses subdivision et d'ordonnées ordonnées\n",
    "plt.show()"
   ]
  },
  {
   "cell_type": "markdown",
   "metadata": {},
   "source": [
    "Créez et affichez la subdivision régulière de l'intervalle $[0;1]$ pour un pas de $1/20$."
   ]
  },
  {
   "cell_type": "code",
   "execution_count": null,
   "metadata": {},
   "outputs": [],
   "source": [
    "# Tapez vos commandes ci-dessous puis Shift + Entrée pour exécuter\n"
   ]
  },
  {
   "cell_type": "markdown",
   "metadata": {},
   "source": [
    "Double-cliquez **ici** pour voir la réponse\n",
    "\n",
    "<!--\n",
    "import matplotlib.pyplot as plt\n",
    "\n",
    "def subdivision(n) :\n",
    "    return [k/n for k in range(n+1)]\n",
    "\n",
    "ordonnées = [0] * len(subdivision(20)) \n",
    "\n",
    "plt.scatter(subdivision(20),ordonnées) \n",
    "plt.show()\n",
    "-->"
   ]
  },
  {
   "cell_type": "markdown",
   "metadata": {},
   "source": [
    "Pour obtenir la composante de rang $k$ de la liste ```subdivision(n)```, on utilise la commande```subdivision(n)[k]```. \n",
    "Trouvez les composantes de rang $0$ et $7$ respectivement de ```subdivision(n)``` pour $n=10$ et $n=20$."
   ]
  },
  {
   "cell_type": "code",
   "execution_count": null,
   "metadata": {},
   "outputs": [],
   "source": [
    "# Tapez vos commandes ci-dessous puis Shift + Entrée pour exécuter\n",
    "subdivision(20)[7]\n"
   ]
  },
  {
   "cell_type": "markdown",
   "metadata": {},
   "source": [
    "Double-cliquez **ici** pour voir la réponse\n",
    "\n",
    "<!--\n",
    "subdivision(10)[7]  0.7\n",
    "subdivision(10)[0]  0\n",
    "subdivision(20)[0]  0\n",
    "subdivision(20)[7]   0.35\n",
    "-->"
   ]
  },
  {
   "cell_type": "markdown",
   "metadata": {},
   "source": [
    "Soit $f$ la fonction définie sur l'intervalle $[0;1]$ par $f(x)=2x$.\n",
    "\n",
    "On cherche à trouver une (fonction) solution approchée $\\varphi$ de la solution $y$ sur l'intervalle $[0;1]$ du problème:\n",
    "\n",
    "$\\left\\{\\begin{array}{ll}y'(x)=2x\\\\ y(0)=0\\end{array}\\right.$\n",
    "\n",
    "C'est à dire trouver une fonction \"proche\" de $y$.\n",
    "On connaît l'approximation, pour une fonction dérivable en un point $x$ : $$\\frac{y(x+pas)-y(x)}{pas}\\approx y'(x)$$\n",
    "$$y(x+pas)\\approx y(x) +y'(x) pas$$\n",
    "\n",
    "Dans notre cas, $y'(x)=2x$. Ce qui nous donne : $\\boxed{y(x+pas)\\approx y(x) + 2x \\times pas}$\n",
    "\n",
    "Lorsque l'on utilise un pas égal à $\\dfrac{1}{n}$, on obtient $n+1$ point dans la subdivision, notés $x_k = k\\times\\dfrac{1}{n}$ pour $k$ allant de $0$ à $n+1$."
   ]
  },
  {
   "cell_type": "markdown",
   "metadata": {},
   "source": [
    "Montrer que $x_{k+1}=x_k + \\dfrac{1}{n}$."
   ]
  },
  {
   "cell_type": "code",
   "execution_count": null,
   "metadata": {},
   "outputs": [],
   "source": [
    "# Utilisez une feuille de brouillon"
   ]
  },
  {
   "cell_type": "markdown",
   "metadata": {},
   "source": [
    "Double-cliquez **ici** pour voir la réponse\n",
    "\n",
    "<!--\n",
    "$ x_{k+1} - x_k = (k+1)/ - k/n = (k + 1 - k)/n $\n",
    "-->"
   ]
  },
  {
   "cell_type": "markdown",
   "metadata": {},
   "source": [
    "On construit notre fonction $\\varphi$ pour l'approximation comme suit (grosso modo on remplace $y$ par $\\varphi$, $x$ par $x_k$ et $pas$ par $1/n$) :\n",
    "\n",
    "$\\left\\{\\begin{array}{ll}\\forall k \\in \\{0,1,..,n-1\\}, \\varphi(x_{k+1})=\\varphi(x_k) + 2x_k \\times \\dfrac{1}{n}\\\\ \\varphi(0)=0\\end{array}\\right.$\n",
    "\n",
    "Cette relation permet alors de créer une liste $[\\varphi(x_0),\\varphi(x_1),...,\\varphi(x_n)]$.\n",
    "\n",
    "Exécuter l'algorithme ci-dessous."
   ]
  },
  {
   "cell_type": "code",
   "execution_count": null,
   "metadata": {},
   "outputs": [],
   "source": [
    "# Tapez vos commandes ci-dessous puis Shift + Entrée pour exécuter\n",
    "import matplotlib.pyplot as plt\n",
    "\n",
    "n = 10\n",
    "subdivision(n)\n",
    "\n",
    "phi = [0] * (n+1)  # liste avec n +1 fois  0 qu'on remplacera par les ordonnées phi(x_k)\n",
    "for k in range(n) :\n",
    "    phi[0] = 0   # valeur initiale\n",
    "    phi[k+1] = phi[k] + 2 * subdivision(n)[k] * 1 / n # obtention des autres par la relation de récurrence\n",
    "\n",
    "plt.scatter(subdivision(n),phi)\n",
    "\n",
    "plt.show()"
   ]
  },
  {
   "cell_type": "markdown",
   "metadata": {},
   "source": [
    "Modifiez l'algorithme dans le cas d'un pas égal à $1/100$."
   ]
  },
  {
   "cell_type": "code",
   "execution_count": null,
   "metadata": {},
   "outputs": [],
   "source": [
    "# Tapez vos commandes ci-dessous puis Shift + Entrée pour exécuter\n",
    "\n"
   ]
  },
  {
   "cell_type": "markdown",
   "metadata": {},
   "source": [
    "Double-cliquez **ici** pour voir la réponse\n",
    "\n",
    "<!--\n",
    "n = 100\n",
    "\n",
    "phi = [0] * (n+1)  # liste avec n +1 fois  0 qu'on remplacera par les ordonnées phi(x_k)\n",
    "for k in range(n) :\n",
    "    phi[0] = 0   # valeur initiale\n",
    "    phi[k+1] = phi[k] + 2 * subdivision(n)[k] * 1 / n # obtention des autres par la relation de récurrence\n",
    "\n",
    "plt.scatter(subdivision(n),phi)\n",
    "\n",
    "plt.show()\n",
    "plt.show()\n",
    "-->"
   ]
  },
  {
   "cell_type": "markdown",
   "metadata": {},
   "source": [
    "Quelle est la solution théorique de ce problème?"
   ]
  },
  {
   "cell_type": "code",
   "execution_count": null,
   "metadata": {},
   "outputs": [],
   "source": [
    "# Tapez votre réponse ici\n"
   ]
  },
  {
   "cell_type": "markdown",
   "metadata": {},
   "source": [
    "Double-cliquez **ici** pour voir la réponse\n",
    "\n",
    "<!--\n",
    "# il s'agit de la fonction carré, car 0^2 = 0 et sa dérivée en x vaut 2x\n",
    "-->"
   ]
  },
  {
   "cell_type": "markdown",
   "metadata": {},
   "source": [
    "On va rajouter sur le graphique la solution théorique."
   ]
  },
  {
   "cell_type": "code",
   "execution_count": null,
   "metadata": {},
   "outputs": [],
   "source": [
    "# Tapez vos commandes ci-dessous puis Shift + Entrée pour exécuter\n",
    "import matplotlib.pyplot as plt\n",
    "\n",
    "# Shift + Entrée pour excuter\n",
    "def subdivision(n):\n",
    "    return [k/n for k in range(n+1)]\n",
    "\n",
    "n = 10\n",
    "\n",
    "phi = [0] * (n+1)  \n",
    "for k in range(n) :\n",
    "    phi[0] = 0   # valeur initiale\n",
    "    phi[k+1] = phi[k] + 2 * subdivision(n)[k] * 1 / n \n",
    "\n",
    "théorique = [x**2 for x in subdivision(n)]\n",
    "\n",
    "plt.scatter(subdivision(n),phi)\n",
    "plt.scatter(subdivision(n),théorique)\n",
    "\n",
    "plt.show()"
   ]
  },
  {
   "cell_type": "markdown",
   "metadata": {},
   "source": [
    "Modifiez l'algorithme ci-dessus pour afficher les courbes de l'approximation et de la solution théorique sur $[1;2]$ du problème :\n",
    "\n",
    "$\\left\\{\\begin{array}{ll}y'(x)= 3x^2+x+1\\\\ y(1)=0\\end{array}\\right.$"
   ]
  },
  {
   "cell_type": "code",
   "execution_count": null,
   "metadata": {},
   "outputs": [],
   "source": [
    "# Tapez votre algorithme ci-dessous puis Shift + Entrée pour exécuter\n"
   ]
  },
  {
   "cell_type": "markdown",
   "metadata": {},
   "source": [
    "Double-cliquez **ici** pour voir la réponse\n",
    "\n",
    "<!--\n",
    "\n",
    "import matplotlib.pyplot as plt\n",
    "\n",
    "def subdivision(n):\n",
    "    return [1+ k/n for k in range(n+1)]\n",
    "\n",
    "n = 10\n",
    "\n",
    "phi = [0] * (n+1) \n",
    "for k in range(n) :\n",
    "    phi[0] = 0   # valeur initiale\n",
    "    phi[k+1] = phi[k] + (3 * subdivision(n)[k] ** 2 +  subdivision(n)[k] + 1) * 1 / n # obtention des autres par la relation de récurrence\n",
    "\n",
    "théorique = [x**3 + x**2 /2 + x - 5 / 2 for x in subdivision(n)]\n",
    "\n",
    "plt.scatter(subdivision(n),phi)\n",
    "plt.scatter(subdivision(n),théorique)\n",
    "\n",
    "plt.show()\n",
    "-->"
   ]
  },
  {
   "cell_type": "markdown",
   "metadata": {},
   "source": [
    "Même question pour afficher les courbes de l'approximation et de la solution théorique sur $[1;5]$ du problème avec un pas de $\\dfrac{4}{n}$ :\n",
    "\n",
    "$\\left\\{\\begin{array}{ll}y'(x)= \\dfrac{1}{x}\\\\ y(1)=0\\end{array}\\right.$ (la fonction logarithme népérien se note ```np.log()```, on l'active en écrivant  en préambule ``` import numpy as np``` )"
   ]
  },
  {
   "cell_type": "code",
   "execution_count": null,
   "metadata": {},
   "outputs": [],
   "source": [
    "# Tapez votre algorithme ci-dessous puis Shift + Entrée pour exécuter\n",
    "import numpy as np\n",
    "import matplotlib.pyplot as plt\n",
    "\n",
    "def subdivision(n):\n",
    "    return [1+ k* 4/n for k in range(n+1)]\n",
    "\n",
    "n = 50\n",
    "\n",
    "phi = [0] * (n+1)  \n",
    "for k in range(n) :\n",
    "    phi[0] = 0   # valeur initiale\n",
    "    phi[k+1] = phi[k] + 1 / subdivision(n)[k] * 4 / n \n",
    "\n",
    "théorique = [np.log(x) for x in subdivision(n)]\n",
    "\n",
    "plt.scatter(subdivision(n),phi)\n",
    "plt.scatter(subdivision(n),théorique)\n",
    "\n",
    "plt.show()"
   ]
  },
  {
   "cell_type": "markdown",
   "metadata": {},
   "source": [
    "## Équation du type $y'=ay+b$"
   ]
  },
  {
   "cell_type": "markdown",
   "metadata": {},
   "source": [
    "On cherche à construire une solution approchée $\\varphi$ sur $[0;1]$ du problème : \n",
    "$\\left\\{\\begin{array}{ll}y'(x)= y(x)\\\\ y(0)=1\\end{array}\\right.$"
   ]
  },
  {
   "cell_type": "markdown",
   "metadata": {},
   "source": [
    "C'est à dire trouver une fonction \"proche\" de la solution théorique $y$.\n",
    "On connaît l'approximation, pour une fonction dérivable en un point $x$ : $$\\frac{y(x+pas)-y(x)}{pas}\\approx y'(x)$$\n",
    "$$y(x+pas)\\approx y(x) +y'(x) pas$$\n",
    "\n",
    "Dans notre cas, $y'(x)=y(x)$. Ce qui nous donne : $\\boxed{y(x+pas)\\approx (1+pas)y(x)}$\n",
    "\n",
    "Lorsque l'on utilise un pas égal à $\\dfrac{1}{n}$, on obtient $n+1$ point dans la subdivision, notés $x_k = k\\times\\dfrac{1}{n}$ pour $k$ allant de $0$ à $n+1$."
   ]
  },
  {
   "cell_type": "markdown",
   "metadata": {},
   "source": [
    "On construit notre fonction $\\varphi$ pour l'approximation comme suit (grosso modo on remplace $y$ par $\\varphi$, $x$ par $x_k$ et $pas$ par $1/n$) :\n",
    "\n",
    "$\\left\\{\\begin{array}{ll}\\forall k \\in \\{0,1,..,n-1\\}, \\varphi(x_{k+1})=(1+\\frac{1}{n})\\varphi(x_k)\\\\ \\varphi(0)=1\\end{array}\\right.$\n",
    "\n",
    "Cette relation permet alors de créer une liste $[\\varphi(x_0),\\varphi(x_1),...,\\varphi(x_n)]$.\n",
    "\n",
    "En vous inspirant des algorithmes précédent, trouver un algorithme permettant de tracer $\\varphi$ ainsi que la solution théorique. ((la fonction exponentielle se note ```exp()```, on l'active en écrivant  en préambule ``` from math import *``` )"
   ]
  },
  {
   "cell_type": "code",
   "execution_count": null,
   "metadata": {},
   "outputs": [],
   "source": [
    "# Tapez votre algorithme ci-dessous puis Shift + Entrée pour exécuter\n"
   ]
  },
  {
   "cell_type": "markdown",
   "metadata": {},
   "source": [
    "Double-cliquez **ici** pour voir la réponse\n",
    "\n",
    "<!--\n",
    "import numpy as np\n",
    "import matplotlib.pyplot as plt\n",
    "from math import *\n",
    "\n",
    "def subdivision(n):\n",
    "    return [k/n for k in range(n+1)]\n",
    "\n",
    "n = 10\n",
    "\n",
    "phi = [0] * (n+1) \n",
    "for k in range(n) :\n",
    "    phi[0] = 1   \n",
    "    phi[k+1] = (1 + 1 / n) * phi[k] \n",
    "\n",
    "théorique = [exp(x) for x in subdivision(n)]\n",
    "\n",
    "plt.scatter(subdivision(n),phi)\n",
    "plt.scatter(subdivision(n),théorique)\n",
    "\n",
    "plt.show()\n",
    "-->"
   ]
  },
  {
   "cell_type": "markdown",
   "metadata": {},
   "source": [
    "Quelle est la solution théorique de ce problème? Tracez-là aussi sur le graphique."
   ]
  },
  {
   "cell_type": "code",
   "execution_count": null,
   "metadata": {},
   "outputs": [],
   "source": [
    "# Tapez votre réponse ici\n",
    "# Il s'agit de la fonction exponentielle."
   ]
  },
  {
   "cell_type": "markdown",
   "metadata": {},
   "source": [
    "Proposez un algorithme pour construire une solution approchée $\\varphi$ et la solution théorique $y$ sur $[0;1]$ du problème : \n",
    "$\\left\\{\\begin{array}{ll}y'(x)= 2 y(x) + 1\\\\ y(0)=1\\end{array}\\right.$"
   ]
  },
  {
   "cell_type": "code",
   "execution_count": null,
   "metadata": {},
   "outputs": [],
   "source": [
    "# Tapez votre algorithme ci-dessous puis Shift + Entrée pour exécuter\n"
   ]
  },
  {
   "cell_type": "markdown",
   "metadata": {},
   "source": [
    "Double-cliquez **ici** pour voir la réponse\n",
    "\n",
    "<!--\n",
    "import numpy as np\n",
    "import matplotlib.pyplot as plt\n",
    "from math import *\n",
    "\n",
    "def subdivision(n):\n",
    "    return [k/n for k in range(n+1)]\n",
    "\n",
    "n = 100\n",
    "\n",
    "phi = [0] * (n+1)  \n",
    "for k in range(n) :\n",
    "    phi[0] = 1  \n",
    "    phi[k+1] = (1 + 2 / n) * phi[k] + 1 / n\n",
    "\n",
    "théorique = [- 1 / 2 + 3 / 2 * exp(2 * x) for x in subdivision(n)]\n",
    "\n",
    "plt.scatter(subdivision(n),phi)\n",
    "plt.scatter(subdivision(n),théorique)\n",
    "\n",
    "plt.show()\n",
    "-->"
   ]
  },
  {
   "cell_type": "code",
   "execution_count": null,
   "metadata": {},
   "outputs": [],
   "source": []
  }
 ],
 "metadata": {
  "kernelspec": {
   "display_name": "Python 3",
   "language": "python",
   "name": "python3"
  },
  "language_info": {
   "codemirror_mode": {
    "name": "ipython",
    "version": 3
   },
   "file_extension": ".py",
   "mimetype": "text/x-python",
   "name": "python",
   "nbconvert_exporter": "python",
   "pygments_lexer": "ipython3",
   "version": "3.7.3"
  }
 },
 "nbformat": 4,
 "nbformat_minor": 2
}
