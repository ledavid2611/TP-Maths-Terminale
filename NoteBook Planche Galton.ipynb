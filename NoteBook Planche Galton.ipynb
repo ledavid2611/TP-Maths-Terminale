{
 "cells": [
  {
   "cell_type": "markdown",
   "metadata": {},
   "source": [
    "# La planche de Galton"
   ]
  },
  {
   "cell_type": "markdown",
   "metadata": {},
   "source": [
    "Une planche de Galton est un dispositif inventé par Sir Francis Galton qui illustre la convergence d'une loi binomiale vers une loi normale.\n",
    "\n",
    "Des clous sont plantés sur la partie supérieure de la planche, de telle sorte qu'une bille lâchée sur la planche passe soit à droite soit à gauche pour chaque rangée de clous. Dans la partie inférieure les billes sont rassemblées en fonction du nombre de passages à gauche et de passage à droite qu'elles ont fait. "
   ]
  },
  {
   "cell_type": "markdown",
   "metadata": {},
   "source": [
    "\n",
    "![alt text](NoteBook_Planche_Galton.png \"Planche de Galton\")"
   ]
  },
  {
   "cell_type": "markdown",
   "metadata": {},
   "source": [
    "On suppose dans ce qui suit qu'il y a $n=12$ lignes de clous. Quel est le nombre de cases possibles dans la partie inférieure de la planche ?"
   ]
  },
  {
   "cell_type": "markdown",
   "metadata": {},
   "source": [
    "Double-cliquez **ici** pour voir la réponse\n",
    "\n",
    "<!--\n",
    "Il y en a 13. On les numérotera de 0 à 12 en allant de la gauche vers la droite.\n",
    "-->"
   ]
  },
  {
   "cell_type": "markdown",
   "metadata": {},
   "source": [
    "On rappelle que la commande ```range(n)``` fournit un objet de type ```range``` avec des les nombres entiers de $0$ à $n-1$. La commande ```list(range(n))``` permet de l'afficher. Affichez la liste des entiers de $0$ à $12$."
   ]
  },
  {
   "cell_type": "code",
   "execution_count": 1,
   "metadata": {},
   "outputs": [],
   "source": [
    "# Tapez votre commande puis Shift + Entrée pour exécuter\n"
   ]
  },
  {
   "cell_type": "markdown",
   "metadata": {},
   "source": [
    "Double-cliquez **ici** pour voir la réponse\n",
    "\n",
    "<!--\n",
    "list(range(13))\n",
    "[0, 1, 2, 3, 4, 5, 6, 7, 8, 9, 10, 11, 12]\n",
    "-->"
   ]
  },
  {
   "cell_type": "markdown",
   "metadata": {},
   "source": [
    "À chaque ligne horizontale, une bille se déplace à droite ou  gauche avec une probabilité de $0,5$."
   ]
  },
  {
   "cell_type": "code",
   "execution_count": 2,
   "metadata": {},
   "outputs": [
    {
     "data": {
      "text/plain": [
       "1"
      ]
     },
     "execution_count": 2,
     "metadata": {},
     "output_type": "execute_result"
    }
   ],
   "source": [
    "# Shift  + Entrée pour exécuter\n",
    "import random\n",
    "\n",
    "deplacementDroite = 0\n",
    "issue = random.uniform(0,1)\n",
    "if issue < 0.5 :\n",
    "    deplacementDroite = deplacementDroite\n",
    "else :\n",
    "    deplacementDroite = deplacementDroite + 1\n",
    "deplacementDroite"
   ]
  },
  {
   "cell_type": "markdown",
   "metadata": {},
   "source": [
    "Combien de déplacement à droite doit-on avoir pour que la bille soit dans la case n°0? Dans la n°1? Dans la n°2? Dans la n°12 ? Dans la case $k$, où $k$ est compris entre $0$ et $12$ ?"
   ]
  },
  {
   "cell_type": "markdown",
   "metadata": {},
   "source": [
    "Double-cliquez **ici** pour voir la réponse\n",
    "\n",
    "<!--\n",
    "Il en  pour la case 0, 1 pour la case1 etc. Plus généralement k pour la case k.\n",
    "-->"
   ]
  },
  {
   "cell_type": "markdown",
   "metadata": {},
   "source": [
    "Que permet de faire l'algorithme ci-dessous ?"
   ]
  },
  {
   "cell_type": "code",
   "execution_count": 3,
   "metadata": {},
   "outputs": [
    {
     "name": "stdout",
     "output_type": "stream",
     "text": [
      "9\n"
     ]
    }
   ],
   "source": [
    "# Shift  + Entrée pour exécuter\n",
    "import random\n",
    "\n",
    "deplacementDroite = 0\n",
    "for i in range(12):\n",
    "    issue = random.uniform(0,1)\n",
    "    if issue < 0.5 :\n",
    "        deplacementDroite = deplacementDroite\n",
    "    else :\n",
    "        deplacementDroite = deplacementDroite + 1\n",
    "\n",
    "case = deplacementDroite\n",
    "print(case)"
   ]
  },
  {
   "cell_type": "code",
   "execution_count": 4,
   "metadata": {},
   "outputs": [],
   "source": [
    "# Tapez votre réponse ici"
   ]
  },
  {
   "cell_type": "markdown",
   "metadata": {},
   "source": [
    "Double-cliquez **ici** pour voir la réponse\n",
    "\n",
    "<!--\n",
    "Il permet de compter le nombre de déplacement à droite après le parcours des 12 lignes.\n",
    "-->"
   ]
  },
  {
   "cell_type": "markdown",
   "metadata": {},
   "source": [
    "On souhaite maintenant répéter cette simulation pour $n=100$ billes. Modifiez l'algorithme précédent à l'aide d'une boucle ```for``` pour obtenir ces $100$ simulations."
   ]
  },
  {
   "cell_type": "code",
   "execution_count": 5,
   "metadata": {},
   "outputs": [],
   "source": [
    "# Tapez votre algorithme ici"
   ]
  },
  {
   "cell_type": "markdown",
   "metadata": {},
   "source": [
    "Double-cliquez **ici** pour voir la réponse\n",
    "\n",
    "<!--\n",
    "# Shift  + Entrée pour exécuter\n",
    "import random\n",
    "\n",
    "for k in range(100) : \n",
    "    deplacementDroite = 0\n",
    "    for i in range(12):\n",
    "        issue = random.uniform(0,1)\n",
    "        if issue < 0.5 :\n",
    "            deplacementDroite = deplacementDroite\n",
    "        else :\n",
    "            deplacementDroite = deplacementDroite + 1\n",
    "    case = deplacementDroite\n",
    "    print(case)\n",
    "-->"
   ]
  },
  {
   "cell_type": "markdown",
   "metadata": {},
   "source": [
    "On souhaiterait savoir combien de fois la bille est tombée dans chaque case. Il existe une méthode permettant de compter le nombre d'occurence d'un nombre dans une liste. Exécutez la commande ci-dessous et tapez la commande permettant de compter le nombre de $7$ dans la liste ci-dessous."
   ]
  },
  {
   "cell_type": "code",
   "execution_count": 6,
   "metadata": {},
   "outputs": [
    {
     "data": {
      "text/plain": [
       "1"
      ]
     },
     "execution_count": 6,
     "metadata": {},
     "output_type": "execute_result"
    }
   ],
   "source": [
    "# Shift + Entrée pour exécuter\n",
    "L = [3,2,7,2,7,7,7]\n",
    "L.count(3)"
   ]
  },
  {
   "cell_type": "markdown",
   "metadata": {},
   "source": [
    "Double-cliquez **ici** pour voir la réponse\n",
    "\n",
    "<!--\n",
    "L.count(7)\n",
    "4\n",
    "-->"
   ]
  },
  {
   "cell_type": "markdown",
   "metadata": {},
   "source": [
    "On va cette fois créer une liste contenant le numéro des cases obtenues au cours des simulations. La méthode ```append``` permet de rajouter à chaque fois un élément à une liste. (concaténation)"
   ]
  },
  {
   "cell_type": "code",
   "execution_count": 7,
   "metadata": {},
   "outputs": [
    {
     "data": {
      "text/plain": [
       "[37]"
      ]
     },
     "execution_count": 7,
     "metadata": {},
     "output_type": "execute_result"
    }
   ],
   "source": [
    "# Shift + Entrée pour exécuter\n",
    "\n",
    "L=[] # liste vide\n",
    "L.append(37)\n",
    "L"
   ]
  },
  {
   "cell_type": "markdown",
   "metadata": {},
   "source": [
    "À l'aide d'une boucle ```for```  on peut créer une liste en utilisant la méthode ```append```contenant les carrés des entiers compris entre $0$ et $20$. Exécutez l'algorithme ci-dessous puis modifiez-le pour obtenir la liste des cubes des entiers compris entre $0$ et $7$."
   ]
  },
  {
   "cell_type": "code",
   "execution_count": 8,
   "metadata": {},
   "outputs": [
    {
     "data": {
      "text/plain": [
       "[0,\n",
       " 1,\n",
       " 4,\n",
       " 9,\n",
       " 16,\n",
       " 25,\n",
       " 36,\n",
       " 49,\n",
       " 64,\n",
       " 81,\n",
       " 100,\n",
       " 121,\n",
       " 144,\n",
       " 169,\n",
       " 196,\n",
       " 225,\n",
       " 256,\n",
       " 289,\n",
       " 324,\n",
       " 361,\n",
       " 400]"
      ]
     },
     "execution_count": 8,
     "metadata": {},
     "output_type": "execute_result"
    }
   ],
   "source": [
    "# Shift + Entrée pour exécuter\n",
    "L=[]\n",
    "for i in range(21):\n",
    "    L.append(i**2)\n",
    "L"
   ]
  },
  {
   "cell_type": "markdown",
   "metadata": {},
   "source": [
    "Double-cliquez **ici** pour voir la réponse\n",
    "\n",
    "<!--\n",
    "# Shift + Entrée pour exécuter\n",
    "L=[]\n",
    "for i in range(8):\n",
    "    L.append(i**3)\n",
    "L\n",
    "-->"
   ]
  },
  {
   "cell_type": "markdown",
   "metadata": {},
   "source": [
    "On  peut maintenant créer la liste des cases où sont tombés les billes. Commentez cet algorithme pour expliquer sont fonctionnement. (utiliser ```# Mon Commentaire``` au bout des lignes à commenter)"
   ]
  },
  {
   "cell_type": "code",
   "execution_count": 9,
   "metadata": {},
   "outputs": [
    {
     "name": "stdout",
     "output_type": "stream",
     "text": [
      "[8, 3, 7, 7, 7, 6, 7, 10, 3, 6, 5, 3, 7, 7, 3, 4, 7, 7, 7, 4, 5, 8, 8, 6, 6, 8, 7, 5, 7, 5, 8, 7, 7, 7, 6, 5, 6, 6, 4, 4, 1, 5, 2, 8, 4, 7, 7, 7, 8, 7, 5, 7, 7, 4, 6, 5, 6, 7, 7, 7, 7, 9, 6, 8, 7, 9, 8, 5, 5, 7, 9, 6, 6, 7, 4, 4, 5, 6, 9, 5, 5, 8, 5, 5, 6, 8, 7, 9, 7, 6, 5, 5, 4, 6, 2, 5, 8, 7, 10, 5]\n"
     ]
    }
   ],
   "source": [
    "# Shift + Entrée pour exécuter\n",
    "import random\n",
    "\n",
    "ListeCase = []\n",
    "for k in range(100) : \n",
    "    deplacementDroite = 0\n",
    "    for i in range(12):\n",
    "        issue = random.uniform(0,1)\n",
    "        if issue < 0.5 :\n",
    "            deplacementDroite = deplacementDroite\n",
    "        else :\n",
    "            deplacementDroite = deplacementDroite + 1\n",
    "    case = deplacementDroite\n",
    "    ListeCase.append(case)\n",
    "print(ListeCase)"
   ]
  },
  {
   "cell_type": "markdown",
   "metadata": {},
   "source": [
    "Double-cliquez **ici** pour voir la réponse\n",
    "\n",
    "<!--\n",
    "# Shift + Entrée pour exécuter\n",
    "import random\n",
    "\n",
    "ListeCase = [] # création d'une liste vide pour les cases o sont tombés les billes\n",
    "for k in range(100) : # boucle for pour simuler les 100 billes\n",
    "    deplacementDroite = 0 # nombre initial de déplacements  droite\n",
    "    for i in range(12): # bouce for pour simuler les 12 clous\n",
    "        issue = random.uniform(0,1) # simulation d'un nombre aléatoire entre 0 et 1\n",
    "        if issue < 0.5 : # instruction if pour simuler le déplacement à droite ou non avec une proba de 1/2\n",
    "            deplacementDroite = deplacementDroite # pas de déplacement à droite\n",
    "        else :\n",
    "            deplacementDroite = deplacementDroite + 1 # déplacement à droite\n",
    "    case = deplacementDroite # variable correspondant à la case où la bille est tombée\n",
    "    ListeCase.append(case) # incorporation de cette case à la liste des cases\n",
    "print(ListeCase) # affichage de cette liste de cases\n",
    "-->"
   ]
  },
  {
   "cell_type": "markdown",
   "metadata": {},
   "source": [
    "Il est maintenant possible de créer la liste des nombres de fois où les billes sont tombés dans chaque case."
   ]
  },
  {
   "cell_type": "code",
   "execution_count": 10,
   "metadata": {},
   "outputs": [
    {
     "name": "stdout",
     "output_type": "stream",
     "text": [
      "[0, 0, 2, 4, 9, 20, 18, 28, 16, 2, 0, 1, 0]\n"
     ]
    }
   ],
   "source": [
    "# Shift + Entrée pour exécuter\n",
    "\n",
    "import random\n",
    "\n",
    "NombreBillesCase = []\n",
    "ListeCase = []\n",
    "for k in range(100) : \n",
    "    deplacementDroite = 0\n",
    "    for i in range(12):\n",
    "        issue = random.uniform(0,1)\n",
    "        if issue < 0.5 :\n",
    "            deplacementDroite = deplacementDroite\n",
    "        else :\n",
    "            deplacementDroite = deplacementDroite + 1\n",
    "    case = deplacementDroite\n",
    "    ListeCase.append(case)\n",
    "for i in range(13):\n",
    "    NombreBillesCase.append(ListeCase.count(i))\n",
    "print(NombreBillesCase)"
   ]
  },
  {
   "cell_type": "markdown",
   "metadata": {},
   "source": [
    "On peut représenter à l'aide d'un diagramme en bâtons."
   ]
  },
  {
   "cell_type": "code",
   "execution_count": 11,
   "metadata": {},
   "outputs": [
    {
     "data": {
      "text/plain": [
       "<Figure size 640x480 with 1 Axes>"
      ]
     },
     "metadata": {},
     "output_type": "display_data"
    }
   ],
   "source": [
    "# Shift + Entrée pour exécuter (éventuellement deux fois)\n",
    "\n",
    "import matplotlib.pyplot as plt # pour faire un graphique\n",
    "\n",
    "plt.bar(list(range(13)),NombreBillesCase)\n",
    "plt.show()"
   ]
  },
  {
   "cell_type": "markdown",
   "metadata": {},
   "source": [
    "Modifier l'algorithme précédent pour le cas de $10 000$ billes avec $20$ lignes et faire la représentation avec un diagramme en bâtons avec les **fréquences** de billes dans chaque case. On pourra introduire une variable nommée ```FreqBillesCase```donnant la liste des fréquences des billes dans chaque case."
   ]
  },
  {
   "cell_type": "code",
   "execution_count": 12,
   "metadata": {},
   "outputs": [],
   "source": [
    "# Tapez votre algorithme ci-dessous puis Shift + Entrée pour exécuter\n"
   ]
  },
  {
   "cell_type": "markdown",
   "metadata": {},
   "source": [
    "Double-cliquez **ici** pour voir la réponse\n",
    "\n",
    "<!--\n",
    "import random\n",
    "import matplotlib.pyplot as plt\n",
    "\n",
    "NombreBillesCase = []\n",
    "FreqBillesCase = []\n",
    "ListeCase = []\n",
    "for k in range(10000) : \n",
    "    deplacementDroite = 0\n",
    "    for i in range(20):\n",
    "        issue = random.uniform(0,1)\n",
    "        if issue < 0.5 :\n",
    "            deplacementDroite = deplacementDroite\n",
    "        else :\n",
    "            deplacementDroite = deplacementDroite + 1\n",
    "    case = deplacementDroite\n",
    "    ListeCase.append(case)\n",
    "for i in range(21):\n",
    "    NombreBillesCase.append(ListeCase.count(i))\n",
    "    FreqBillesCase.append(ListeCase.count(i)/10000)\n",
    "print(NombreBillesCase)\n",
    "print(FreqBillesCase)\n",
    "\n",
    "plt.bar(list(range(21)),FreqBillesCase)\n",
    "plt.show()\n",
    "-->"
   ]
  },
  {
   "cell_type": "markdown",
   "metadata": {},
   "source": [
    "On peut représenter la distribution de la loi binomiale de paramètres $n=20$ et $p=0,5$ avec la commande ci-dessous. Que remarquez-vous en comparant avec ce qui précède?"
   ]
  },
  {
   "cell_type": "code",
   "execution_count": 13,
   "metadata": {},
   "outputs": [
    {
     "data": {
      "image/png": "[encoded data removed]",
      "text/plain": [
       "<Figure size 432x288 with 1 Axes>"
      ]
     },
     "metadata": {
      "needs_background": "light"
     },
     "output_type": "display_data"
    }
   ],
   "source": [
    "# Shift + Entrée pour exécuter\n",
    "import scipy.stats\n",
    "k = list(range(21))\n",
    "n = 20\n",
    "p = 0.5\n",
    "scipy.stats.binom.pmf(k,n,p)\n",
    "\n",
    "plt.bar(list(range(21)),scipy.stats.binom.pmf(k,n,p))\n",
    "plt.show()"
   ]
  },
  {
   "cell_type": "markdown",
   "metadata": {},
   "source": [
    "Double-cliquez **ici** pour voir la réponse\n",
    "\n",
    "<!--\n",
    "Les deux digrammes en bâtons se ressemblent.\n",
    "-->"
   ]
  },
  {
   "cell_type": "markdown",
   "metadata": {},
   "source": [
    "On admet que cette loi bionimale peut être approchée par une loi normale de moyenne $np$ et d'écart type $\\sqrt{np(1-p)}$. Ce qui peut se voir en comparant ce diagramme en bâton et la densité de cette dernière."
   ]
  },
  {
   "cell_type": "code",
   "execution_count": 14,
   "metadata": {},
   "outputs": [
    {
     "ename": "NameError",
     "evalue": "name 'norm' is not defined",
     "output_type": "error",
     "traceback": [
      "\u001b[1;31m---------------------------------------------------------------------------\u001b[0m",
      "\u001b[1;31mNameError\u001b[0m                                 Traceback (most recent call last)",
      "\u001b[1;32m<ipython-input-14-49db8ea0edb6>\u001b[0m in \u001b[0;36m<module>\u001b[1;34m\u001b[0m\n\u001b[0;32m     11\u001b[0m \u001b[1;33m\u001b[0m\u001b[0m\n\u001b[0;32m     12\u001b[0m \u001b[0mabscisses\u001b[0m \u001b[1;33m=\u001b[0m \u001b[0mnp\u001b[0m\u001b[1;33m.\u001b[0m\u001b[0marange\u001b[0m\u001b[1;33m(\u001b[0m\u001b[1;36m0\u001b[0m\u001b[1;33m,\u001b[0m \u001b[1;36m20\u001b[0m\u001b[1;33m,\u001b[0m \u001b[1;36m0.001\u001b[0m\u001b[1;33m)\u001b[0m\u001b[1;33m\u001b[0m\u001b[1;33m\u001b[0m\u001b[0m\n\u001b[1;32m---> 13\u001b[1;33m \u001b[0mordonnées\u001b[0m \u001b[1;33m=\u001b[0m \u001b[0mnorm\u001b[0m\u001b[1;33m.\u001b[0m\u001b[0mpdf\u001b[0m\u001b[1;33m(\u001b[0m\u001b[0mabscisses\u001b[0m\u001b[1;33m,\u001b[0m\u001b[0mn\u001b[0m\u001b[1;33m*\u001b[0m\u001b[0mp\u001b[0m\u001b[1;33m,\u001b[0m\u001b[0msqrt\u001b[0m\u001b[1;33m(\u001b[0m\u001b[0mn\u001b[0m\u001b[1;33m*\u001b[0m\u001b[0mp\u001b[0m\u001b[1;33m*\u001b[0m\u001b[1;33m(\u001b[0m\u001b[1;36m1\u001b[0m\u001b[1;33m-\u001b[0m\u001b[0mp\u001b[0m\u001b[1;33m)\u001b[0m\u001b[1;33m)\u001b[0m\u001b[1;33m)\u001b[0m\u001b[1;33m\u001b[0m\u001b[1;33m\u001b[0m\u001b[0m\n\u001b[0m\u001b[0;32m     14\u001b[0m \u001b[1;33m\u001b[0m\u001b[0m\n\u001b[0;32m     15\u001b[0m \u001b[0mfig\u001b[0m\u001b[1;33m,\u001b[0m \u001b[0max\u001b[0m \u001b[1;33m=\u001b[0m \u001b[0mplt\u001b[0m\u001b[1;33m.\u001b[0m\u001b[0msubplots\u001b[0m\u001b[1;33m(\u001b[0m\u001b[0mfigsize\u001b[0m\u001b[1;33m=\u001b[0m\u001b[1;33m(\u001b[0m\u001b[1;36m9\u001b[0m\u001b[1;33m,\u001b[0m\u001b[1;36m6\u001b[0m\u001b[1;33m)\u001b[0m\u001b[1;33m)\u001b[0m\u001b[1;33m\u001b[0m\u001b[1;33m\u001b[0m\u001b[0m\n",
      "\u001b[1;31mNameError\u001b[0m: name 'norm' is not defined"
     ]
    }
   ],
   "source": [
    "# Shift + Entrée pour exécuter\n",
    "import numpy as np\n",
    "import matplotlib.pyplot as plt\n",
    "import scipy.stats\n",
    "from math import sqrt\n",
    "\n",
    "k = list(range(21))\n",
    "n = 20\n",
    "p = 0.5\n",
    "scipy.stats.binom.pmf(k,n,p)\n",
    "\n",
    "abscisses = np.arange(0, 20, 0.001)\n",
    "ordonnées = norm.pdf(abscisses,n*p,sqrt(n*p*(1-p)))\n",
    "\n",
    "fig, ax = plt.subplots(figsize=(9,6))\n",
    "ax.plot(abscisses,ordonnées)\n",
    "plt.bar(list(range(21)),scipy.stats.binom.pmf(k,n,p))\n",
    "plt.show()"
   ]
  },
  {
   "cell_type": "markdown",
   "metadata": {},
   "source": [
    "**Bonus** : créez une fonction ```Galton(lignes,billes)``` permettant de représenter le diagramme en bâton des fréquences de billes tombées dans chaque case où les variables ```lignes``` et ```billes``` correspondent au nombres totaux de lignes et de billes choisis par l'utilisateur."
   ]
  },
  {
   "cell_type": "code",
   "execution_count": null,
   "metadata": {},
   "outputs": [],
   "source": [
    "# Tapez votre algorithme ci-dessous puis Shift + Entrée pour exécuter\n"
   ]
  },
  {
   "cell_type": "markdown",
   "metadata": {},
   "source": [
    "Double-cliquez **ici** pour voir la réponse\n",
    "\n",
    "<!--\n",
    "# Tapez votre algorithme ci-dessous puis Shift + Entrée pour exécuter\n",
    "import random\n",
    "import matplotlib.pyplot as plt\n",
    "\n",
    "def Galton(lignes,billes):\n",
    "    NombreBillesCase = []\n",
    "    FreqBillesCase = []\n",
    "    ListeCase = []\n",
    "    for k in range(billes) : \n",
    "        deplacementDroite = 0\n",
    "        for i in range(lignes):\n",
    "            issue = random.uniform(0,1)\n",
    "            if issue < 0.5 :\n",
    "                deplacementDroite = deplacementDroite\n",
    "            else :\n",
    "                deplacementDroite = deplacementDroite + 1\n",
    "        case = deplacementDroite\n",
    "        ListeCase.append(case)\n",
    "    for i in range(lignes + 1):\n",
    "        NombreBillesCase.append(ListeCase.count(i))\n",
    "        FreqBillesCase.append(ListeCase.count(i)/billes)\n",
    "    print(NombreBillesCase)\n",
    "    print(FreqBillesCase)\n",
    "    plt.bar(list(range(lignes + 1)),FreqBillesCase)\n",
    "    plt.show()\n",
    "\n",
    "Galton(20,10000)\n",
    "-->"
   ]
  },
  {
   "cell_type": "code",
   "execution_count": null,
   "metadata": {},
   "outputs": [],
   "source": []
  }
 ],
 "metadata": {
  "kernelspec": {
   "display_name": "Python 3",
   "language": "python",
   "name": "python3"
  },
  "language_info": {
   "codemirror_mode": {
    "name": "ipython",
    "version": 3
   },
   "file_extension": ".py",
   "mimetype": "text/x-python",
   "name": "python",
   "nbconvert_exporter": "python",
   "pygments_lexer": "ipython3",
   "version": "3.7.3"
  }
 },
 "nbformat": 4,
 "nbformat_minor": 2
}
