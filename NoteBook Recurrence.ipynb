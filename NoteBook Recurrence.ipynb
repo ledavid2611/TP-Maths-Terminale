{
 "cells": [
  {
   "cell_type": "markdown",
   "metadata": {},
   "source": [
    "# Récurrence"
   ]
  },
  {
   "cell_type": "markdown",
   "metadata": {},
   "source": [
    "L'objet ```range```. Exécutez la commande ci-dessous :"
   ]
  },
  {
   "cell_type": "code",
   "execution_count": null,
   "metadata": {},
   "outputs": [],
   "source": [
    "# Shift + Entrée pour exécuter\n",
    "range(5)"
   ]
  },
  {
   "cell_type": "markdown",
   "metadata": {},
   "source": [
    "Il ne s'affiche pas grand'chose : ```range(0, 5)```. Pour visualisez le contenu de cet objet, exécutez la commande ci-dessous:"
   ]
  },
  {
   "cell_type": "code",
   "execution_count": null,
   "metadata": {},
   "outputs": [],
   "source": [
    "# Shift + Entrée pour exécuter\n",
    "print(list(range(5)))"
   ]
  },
  {
   "cell_type": "markdown",
   "metadata": {},
   "source": [
    "Tapez la commande permettant d'afficher la liste des entiers de $0$ à $10$."
   ]
  },
  {
   "cell_type": "code",
   "execution_count": null,
   "metadata": {
    "collapsed": true
   },
   "outputs": [],
   "source": [
    "# Tapez votre commande ci-dessous puis Shift + Entrée pour exécuter"
   ]
  },
  {
   "cell_type": "markdown",
   "metadata": {},
   "source": [
    "Double-cliquez **ici** pour voir la réponse\n",
    "\n",
    "<!--\n",
    "print(list(range(10)))\n",
    "-->\n"
   ]
  },
  {
   "cell_type": "markdown",
   "metadata": {},
   "source": [
    "La boucle ```for```. Exécutez l'algorithme ci-dessous."
   ]
  },
  {
   "cell_type": "code",
   "execution_count": null,
   "metadata": {},
   "outputs": [],
   "source": [
    "# Shift + Entrée pour exécuter\n",
    "u = 2\n",
    "for i in range(4):\n",
    "    u = u + 5\n",
    "    print(u)"
   ]
  },
  {
   "cell_type": "markdown",
   "metadata": {},
   "source": [
    "Proposez un algorithme permettant d'afficher les nombres $37$, $40$, $43$, $46$, $49$, $52$ et $55$."
   ]
  },
  {
   "cell_type": "code",
   "execution_count": null,
   "metadata": {
    "collapsed": true
   },
   "outputs": [],
   "source": [
    "# Tapez votre commande ci-dessous puis Shift + Entrée pour exécuter\n",
    "\n",
    "    "
   ]
  },
  {
   "cell_type": "markdown",
   "metadata": {},
   "source": [
    "Double-cliquez **ici** pour voir la réponse\n",
    "\n",
    "<!--\n",
    "u = 37\n",
    "for i in range(6):\n",
    "    u = u +3\n",
    "    print(u)\n",
    "-->"
   ]
  },
  {
   "cell_type": "markdown",
   "metadata": {},
   "source": [
    "Exécutez l'algorithme ci-dessous:"
   ]
  },
  {
   "cell_type": "code",
   "execution_count": null,
   "metadata": {},
   "outputs": [],
   "source": [
    "# Shift + Entrée pour exécuter\n",
    "for i in range(6):\n",
    "    print(5 * i)"
   ]
  },
  {
   "cell_type": "markdown",
   "metadata": {},
   "source": [
    "Proposez un algorithme permettant d'afficher les nombres $40$, $50$, $60$, $70$, $80$ et $90$."
   ]
  },
  {
   "cell_type": "code",
   "execution_count": null,
   "metadata": {},
   "outputs": [],
   "source": [
    "# Tapez votre commande ci-dessous puis Shift + Entrée pour exécuter\n"
   ]
  },
  {
   "cell_type": "markdown",
   "metadata": {},
   "source": [
    "Double-cliquez **ici** pour voir la réponse\n",
    "\n",
    "<!--\n",
    "for i in range(6):\n",
    "    print(40 + 10 * i)\n",
    "-->"
   ]
  },
  {
   "cell_type": "markdown",
   "metadata": {},
   "source": [
    "Liste en compréhension : exécutez la commande ci-dessous:"
   ]
  },
  {
   "cell_type": "code",
   "execution_count": null,
   "metadata": {},
   "outputs": [],
   "source": [
    "# Shift + Entrée pour exécuter\n",
    "[k ** 2 for k in range(5)]"
   ]
  },
  {
   "cell_type": "markdown",
   "metadata": {},
   "source": [
    "Proposez un algorithme permettant d'afficher les cubes des entiers de $0$ à $5$ augmentés de $1$."
   ]
  },
  {
   "cell_type": "code",
   "execution_count": null,
   "metadata": {},
   "outputs": [],
   "source": [
    "# Tapez votre commande ci-dessous puis Shift + Entrée pour exécuter\n"
   ]
  },
  {
   "cell_type": "markdown",
   "metadata": {},
   "source": [
    "Double-cliquez **ici** pour voir la réponse\n",
    "\n",
    "<!--\n",
    "[k ** 3 + 1 for k in range(6)]\n",
    "-->"
   ]
  },
  {
   "cell_type": "markdown",
   "metadata": {},
   "source": [
    "Booléen : En informatique, un **booléen ** est un type de variable à deux états (généralement notés vrai et faux). Exécutez les commandes ci-dessous."
   ]
  },
  {
   "cell_type": "code",
   "execution_count": null,
   "metadata": {},
   "outputs": [],
   "source": [
    "# Shift + Entrée pour exécuter\n",
    "2 == 3"
   ]
  },
  {
   "cell_type": "code",
   "execution_count": null,
   "metadata": {},
   "outputs": [],
   "source": [
    "# Shift + Entrée pour exécuter\n",
    "2 ** 3 == 8"
   ]
  },
  {
   "cell_type": "code",
   "execution_count": null,
   "metadata": {},
   "outputs": [],
   "source": [
    "# Shift + Entrée pour exécuter\n",
    "for i in range(4):\n",
    "    print(i == 3)\n",
    "    "
   ]
  },
  {
   "cell_type": "markdown",
   "metadata": {},
   "source": [
    "Proposez un algorithme permettant de tester si les carrés des entiers de $0$ à $5$ prennent une valeur égale à $13$."
   ]
  },
  {
   "cell_type": "code",
   "execution_count": null,
   "metadata": {},
   "outputs": [],
   "source": [
    "# Tapez votre commande ci-dessous puis Shift + Entrée pour exécuter\n"
   ]
  },
  {
   "cell_type": "markdown",
   "metadata": {},
   "source": [
    "Double-cliquez **ici** pour voir la réponse\n",
    "\n",
    "<!--\n",
    "\n",
    "for i  in range(6):\n",
    "    print( i ** 2 == 13)\n",
    "\n",
    "False\n",
    "False\n",
    "False\n",
    "False\n",
    "False\n",
    "False\n",
    "-->"
   ]
  },
  {
   "cell_type": "markdown",
   "metadata": {},
   "source": [
    "On considère la suite définie sur $\\mathbb{N}$ par $u_0 = 3$ et, pour tout $n\\geq 0$, $u_{n+1} = 2 u_n$. Proposez un algorithme permettant de tester si $u_n = 3 (n+1)$ pour les termes de rang $1$ à $4$."
   ]
  },
  {
   "cell_type": "code",
   "execution_count": null,
   "metadata": {},
   "outputs": [],
   "source": [
    "# Tapez votre algorithme ci-dessous puis Shift + Entrée pour exécuter\n"
   ]
  },
  {
   "cell_type": "markdown",
   "metadata": {},
   "source": [
    "Double-cliquez **ici** pour voir la réponse\n",
    "\n",
    "<!--\n",
    "u = 3\n",
    "for i in range(4):\n",
    "    u = 2 * u\n",
    "    print(u == 3 *(i + 2))\n",
    "\n",
    "True\n",
    "False\n",
    "False\n",
    "False\n",
    "-->"
   ]
  },
  {
   "cell_type": "markdown",
   "metadata": {},
   "source": [
    "Proposez un algorithme permettant de tester si $u_n = 3\\times 2 ^ n$ pour les termes de rang $1$ à $10$."
   ]
  },
  {
   "cell_type": "code",
   "execution_count": null,
   "metadata": {},
   "outputs": [],
   "source": [
    "# Tapez votre algorithme ci-dessous puis Shift + Entrée pour exécuter\n"
   ]
  },
  {
   "cell_type": "markdown",
   "metadata": {},
   "source": [
    "Double-cliquez **ici** pour voir la réponse\n",
    "\n",
    "<!--\n",
    "u = 3\n",
    "for i in range(10):\n",
    "    u = 2 * u\n",
    "    print(u == 3 * 2 ** (i + 1))\n",
    "-->"
   ]
  },
  {
   "cell_type": "markdown",
   "metadata": {},
   "source": [
    "La commande ```sum```. Exécutez la commande ci-dessous :"
   ]
  },
  {
   "cell_type": "code",
   "execution_count": null,
   "metadata": {},
   "outputs": [],
   "source": [
    "# Shift + Entrée pour exécuter\n",
    "L = [3, 4, 10]\n",
    "sum(L)"
   ]
  },
  {
   "cell_type": "markdown",
   "metadata": {},
   "source": [
    "Proposez une commande permettant de calculer la somme des entiers de $0$ à $5$."
   ]
  },
  {
   "cell_type": "code",
   "execution_count": null,
   "metadata": {},
   "outputs": [],
   "source": [
    "# Tapez votre algorithme ci-dessous puis Shift + Entrée pour exécuter\n"
   ]
  },
  {
   "cell_type": "markdown",
   "metadata": {},
   "source": [
    "Double-cliquez **ici** pour voir la réponse\n",
    "\n",
    "<!--\n",
    "sum([0,1,2,3,4,5])\n",
    "15\n",
    "-->"
   ]
  },
  {
   "cell_type": "markdown",
   "metadata": {},
   "source": [
    "Proposez une commande permettant de calculer la somme des entiers de $0$ à $100$."
   ]
  },
  {
   "cell_type": "code",
   "execution_count": null,
   "metadata": {},
   "outputs": [],
   "source": [
    "# Tapez votre algorithme ci-dessous puis Shift + Entrée pour exécuter\n"
   ]
  },
  {
   "cell_type": "markdown",
   "metadata": {},
   "source": [
    "Double-cliquez **ici** pour voir la réponse\n",
    "\n",
    "<!--\n",
    "sum([i for i in range (101)])\n",
    "-->"
   ]
  },
  {
   "cell_type": "markdown",
   "metadata": {},
   "source": [
    "On considère la suite $(S_n)$ définie pour tout $n\\geq 0$ par $S_n=\\displaystyle\\sum_{k=0}^n  k$. Proposez un algorithme permettant de tester si $S_n$ est égal à $\\dfrac{n(n+1)}{2}$, pour $n$ allant de $0$ à $15$."
   ]
  },
  {
   "cell_type": "code",
   "execution_count": null,
   "metadata": {},
   "outputs": [],
   "source": [
    "# Tapez votre algorithme ci-dessous puis Shift + Entrée pour exécuter\n"
   ]
  },
  {
   "cell_type": "markdown",
   "metadata": {},
   "source": [
    "Double-cliquez **ici** pour voir la réponse\n",
    "\n",
    "<!--\n",
    "for n in range(16):\n",
    "    S = sum([k for k in range(n + 1)])\n",
    "    print(S == n * (n + 1) / 2)\n",
    "\n",
    "True\n",
    "True\n",
    "True\n",
    "True\n",
    "True\n",
    "True\n",
    "True\n",
    "True\n",
    "True\n",
    "True\n",
    "True\n",
    "True\n",
    "True\n",
    "True\n",
    "True\n",
    "True\n",
    "\n",
    "-->"
   ]
  },
  {
   "cell_type": "markdown",
   "metadata": {},
   "source": [
    "On considère la suite dont les cinq premiers termes sont donnés par $2$, $3$, $5$, $9$, $17$. Proposez une expression possible pour le terme $u_n$ de rang $n$ de cette suite. Écrivez un algorithme permettany de vérfier votre conjecture. "
   ]
  },
  {
   "cell_type": "code",
   "execution_count": null,
   "metadata": {},
   "outputs": [],
   "source": [
    "## Tapez votre algorithme ci-dessous puis Shift + Entrée pour exécuter\n"
   ]
  },
  {
   "cell_type": "markdown",
   "metadata": {},
   "source": [
    "Double-cliquez **ici** pour voir la réponse\n",
    "\n",
    "<!--\n",
    "for i in  range(10):\n",
    "    print(2 ** i + 1)\n",
    "    \n",
    "2\n",
    "3\n",
    "5\n",
    "9\n",
    "17\n",
    "33\n",
    "65\n",
    "129\n",
    "257\n",
    "513\n",
    "# conjecture vérifiée\n",
    "-->"
   ]
  },
  {
   "cell_type": "markdown",
   "metadata": {},
   "source": [
    "On considère la suite $(v_n)$ dont les termes de rangs $1$ à $15$ sont donnés par : 1, 4, 1, 5, 9, 2, 6, 5, 3, 5, 1, 9, 7, 9, 3. Albert propose comme expression (surprenante) de la suite en langage Python ```int(10 * (10 ** i * pi - int(10 ** i * pi)))```. A-t-il raison ?"
   ]
  },
  {
   "cell_type": "code",
   "execution_count": null,
   "metadata": {},
   "outputs": [],
   "source": [
    "# Tapez vos commandes ici puis Shift + Entrée pour exécuter\n",
    "from math import *\n",
    "\n"
   ]
  },
  {
   "cell_type": "markdown",
   "metadata": {},
   "source": [
    "Double-cliquez **ici** pour voir la réponse\n",
    "\n",
    "<!--\n",
    "v = [1, 4, 1, 5, 9, 2, 6, 5, 3, 5, 1, 9, 7, 9, 3]\n",
    "\n",
    "for i in range(15):\n",
    "    print(v[i] == int(10 * (10 ** i * pi - int(10 ** i * pi))))\n",
    "\n",
    "Le terme de rang 10 ne correspond pas, la formule est donc fausse.\n",
    "-->"
   ]
  },
  {
   "cell_type": "markdown",
   "metadata": {},
   "source": [
    "On considère la suite $(w_n)$ dont les termes valent $0$ si $n$ est pair et $1$ sinon. Proposez un algorithme qui permet d'afficher les termes de la suite $(w_n)$"
   ]
  },
  {
   "cell_type": "code",
   "execution_count": null,
   "metadata": {},
   "outputs": [],
   "source": [
    "# Tapez votre algorithme ci-dessous puis Shift + Entrée pour exécuter\n"
   ]
  },
  {
   "cell_type": "markdown",
   "metadata": {},
   "source": [
    "Double-cliquez **ici** pour voir a réponse\n",
    "\n",
    "<!--\n",
    "\n",
    "n = 10\n",
    "for k in range(n):\n",
    "    print((1 -(-1) ** k)/2)\n",
    "\n",
    "# ou bien\n",
    "\n",
    "for k in range(n):\n",
    "    if k % 2 == 0 :\n",
    "        print(0)\n",
    "    else :\n",
    "        print(1)\n",
    "-->"
   ]
  }
 ],
 "metadata": {
  "kernelspec": {
   "display_name": "Python 3",
   "language": "python",
   "name": "python3"
  },
  "language_info": {
   "codemirror_mode": {
    "name": "ipython",
    "version": 3
   },
   "file_extension": ".py",
   "mimetype": "text/x-python",
   "name": "python",
   "nbconvert_exporter": "python",
   "pygments_lexer": "ipython3",
   "version": "3.7.3"
  }
 },
 "nbformat": 4,
 "nbformat_minor": 2
}
