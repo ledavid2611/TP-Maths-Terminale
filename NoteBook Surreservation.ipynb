{
 "cells": [
  {
   "cell_type": "markdown",
   "metadata": {},
   "source": [
    "# Surréservation"
   ]
  },
  {
   "cell_type": "markdown",
   "metadata": {},
   "source": [
    "## Une simulation possible"
   ]
  },
  {
   "cell_type": "markdown",
   "metadata": {},
   "source": [
    "Dans un aéroport, un avion peut contenir 100 personnes et la compagnie vend 107 réservations.\n",
    "Un passager ayant réserve sa place a une chance sur 10 de ne pas avoir de places dans l'avion.\n",
    "Le programme permet de simuler aleatoirement le pourcentage de risque sur 10000 vols qu'un passager n'ait pas de place dans l'avion et doive embarquer dans le vol suivant:"
   ]
  },
  {
   "cell_type": "markdown",
   "metadata": {},
   "source": [
    "Que permet de faire la commande ```[3,5,1]```? et ```[]```?"
   ]
  },
  {
   "cell_type": "code",
   "execution_count": null,
   "metadata": {},
   "outputs": [],
   "source": [
    "# Tapez votre réponse ici\n"
   ]
  },
  {
   "cell_type": "markdown",
   "metadata": {},
   "source": [
    "Double-cliquez **ici** pour voir la réponse\n",
    "\n",
    "<!-- \n",
    "Créer la liste [3,5,1]\n",
    "Créer une liste vide\n",
    "\n",
    "-->"
   ]
  },
  {
   "cell_type": "markdown",
   "metadata": {},
   "source": [
    "On rappelle que la commande ```range(10)```permet de créer un objet de type ```range``` avec des entiers de 0 à 9.\n",
    "La commande ```list(range(10))```permet de les afficher. Testez cette commande puis afficher la liste des entiers de 0 à 15."
   ]
  },
  {
   "cell_type": "code",
   "execution_count": null,
   "metadata": {},
   "outputs": [],
   "source": [
    "# Tapez votre commande puis Shift + Entrée pour exécuter\n"
   ]
  },
  {
   "cell_type": "markdown",
   "metadata": {},
   "source": [
    "Double-cliquez **ici** pour voir la réponse\n",
    "\n",
    "<!--\n",
    "list(range(16))\n",
    "-->"
   ]
  },
  {
   "cell_type": "markdown",
   "metadata": {},
   "source": [
    "On considère la commande ci-dessous. Répétez-la plusieurs fois et expliquez ce qu'elle permet de créer."
   ]
  },
  {
   "cell_type": "code",
   "execution_count": null,
   "metadata": {},
   "outputs": [],
   "source": [
    "# Shift + Entrée pour exécuter\n",
    "import random\n",
    "random.choice(range(10))"
   ]
  },
  {
   "cell_type": "code",
   "execution_count": null,
   "metadata": {},
   "outputs": [],
   "source": [
    "# Tapez votre réponse ici"
   ]
  },
  {
   "cell_type": "markdown",
   "metadata": {},
   "source": [
    "Double-cliquez **ici** pour voir la réponse\n",
    "\n",
    "<!--\n",
    "Choisir des nombres aléatoire entre 0 et 9\n",
    "-->"
   ]
  },
  {
   "cell_type": "markdown",
   "metadata": {},
   "source": [
    "Quelle est la probabilité d'obtenir 0 ?"
   ]
  },
  {
   "cell_type": "code",
   "execution_count": null,
   "metadata": {},
   "outputs": [],
   "source": [
    "# Tapez votre réponse ici"
   ]
  },
  {
   "cell_type": "markdown",
   "metadata": {},
   "source": [
    "Double-cliquez **ici** pour voir la réponse\n",
    "\n",
    "<!--\n",
    "On  choisit au hasard parmi les 10 entiers, donc sa probabilité est 1/10\n",
    "-->"
   ]
  },
  {
   "cell_type": "markdown",
   "metadata": {},
   "source": [
    "La méthode ```append``` permet de rajouter à chaque fois un élément à une liste. (concaténation)"
   ]
  },
  {
   "cell_type": "markdown",
   "metadata": {},
   "source": [
    "Que permet de faire l'algorithme ci-dessous?"
   ]
  },
  {
   "cell_type": "code",
   "execution_count": null,
   "metadata": {},
   "outputs": [],
   "source": [
    "# Shift + Entrée pour exécuter\n",
    "import random\n",
    "P = []\n",
    "for i in range(15):\n",
    "    P.append(random.choice(range(10)) )\n",
    "print(P)    "
   ]
  },
  {
   "cell_type": "code",
   "execution_count": null,
   "metadata": {},
   "outputs": [],
   "source": [
    "# Tapez votre réponse ici"
   ]
  },
  {
   "cell_type": "markdown",
   "metadata": {},
   "source": [
    "Double-cliquez **ici** pour voir la réponse\n",
    "\n",
    "<!--\n",
    "Créer une liste P de nombres choisis au hasard entre  et 9\n",
    "-->"
   ]
  },
  {
   "cell_type": "markdown",
   "metadata": {},
   "source": [
    "Modifiez cet algorithme pour obtenir une liste de 107 entiers aléatoires entre 0 et 9."
   ]
  },
  {
   "cell_type": "code",
   "execution_count": null,
   "metadata": {},
   "outputs": [],
   "source": [
    "# Tapez votre algorithme puis Shift + Entrée pour exécuter\n"
   ]
  },
  {
   "cell_type": "markdown",
   "metadata": {},
   "source": [
    "Double-cliquez **ici** pour voir la réponse\n",
    "\n",
    "<!--\n",
    "import random\n",
    "P = []\n",
    "for i in range(107):\n",
    "    P.append(random.choice(range(10)))\n",
    "print(P)   \n",
    "-->"
   ]
  },
  {
   "cell_type": "markdown",
   "metadata": {},
   "source": [
    "Que permet de faire la commande ci-dessous? (```count``` s'appelle une **méthode**)"
   ]
  },
  {
   "cell_type": "code",
   "execution_count": null,
   "metadata": {},
   "outputs": [],
   "source": [
    "# Shift + Entrée pour exécuter\n",
    "P.count(1)"
   ]
  },
  {
   "cell_type": "code",
   "execution_count": null,
   "metadata": {},
   "outputs": [],
   "source": [
    "# Tapez votre réponse ici"
   ]
  },
  {
   "cell_type": "markdown",
   "metadata": {},
   "source": [
    "Double-cliquez **ici** pour voir la réponse\n",
    "\n",
    "<!--\n",
    "Compter le nombre de 1 dans la liste P\n",
    "-->"
   ]
  },
  {
   "cell_type": "markdown",
   "metadata": {},
   "source": [
    "Proposez une commande pour compter le nombre de zéros dans la liste ```P``` créée précédemment."
   ]
  },
  {
   "cell_type": "code",
   "execution_count": null,
   "metadata": {},
   "outputs": [],
   "source": [
    "# Tapez votre commande ci-dessous puis Shift + Entrée pour exécuter\n"
   ]
  },
  {
   "cell_type": "markdown",
   "metadata": {},
   "source": [
    "Double-cliquez **ici** pour voir la réponse\n",
    "\n",
    "<!--\n",
    "P.count(0)\n",
    "-->"
   ]
  },
  {
   "cell_type": "markdown",
   "metadata": {},
   "source": [
    "On souhaite compter le nombre de personnes en trop parmi les 107 qui ont réservé. On associe le nombre 0 à ceux qui ne se sont pas présentés à l'embarcation. Si la variable ```venus```désigne le nombre de personnes venues à l'embarquement, donnez ci-dessous l'expression de ```venus``` à l'aide de ce qui précède."
   ]
  },
  {
   "cell_type": "code",
   "execution_count": null,
   "metadata": {},
   "outputs": [],
   "source": [
    "# Tapez votre commande ci-dessous puis Shift + Entrée pour exécuter\n"
   ]
  },
  {
   "cell_type": "markdown",
   "metadata": {},
   "source": [
    "Double-cliquez **ici** pour voir la réponse\n",
    "\n",
    "<!--\n",
    "venus = 107 - P.count(0)\n",
    "venus\n",
    "-->"
   ]
  },
  {
   "cell_type": "markdown",
   "metadata": {},
   "source": [
    "On considère l'algorithme ci-dessous. Exéctuez et commentez les lignes de cet algorithme à l'aide de ```# votre commentaire``` au bout de chaque ligne."
   ]
  },
  {
   "cell_type": "code",
   "execution_count": null,
   "metadata": {},
   "outputs": [],
   "source": [
    "import random\n",
    "import math\n",
    "surbook = 0 \n",
    "for k in range(10000): \n",
    "    P = [] \n",
    "    for i in range(107) :\n",
    "        P.append(random.choice(range(10)))\n",
    "    venus = 107 - P.count(0)\n",
    "    if venus > 100 :\n",
    "        surbook = surbook + 1\n",
    "print (\"Dans\",(surbook / 10000) * 100,\"% des vols certaines personnes n ont pu embarquer\")"
   ]
  },
  {
   "cell_type": "markdown",
   "metadata": {},
   "source": [
    "Double-cliquez **ici** pour voir la réponse\n",
    "\n",
    "<!--\n",
    "import random # pour céer des nombres aléatoire\n",
    "import math # pour certaines fonctions mathématiques\n",
    "surbook = 0 # compteur du nombre de vols n'ayant pas pu embarquer tous les passagers munis d'un billet.\n",
    "for k in range(10000): # début des 10000 simulations d'embarquements\n",
    "    P = [] # création d'une liste vide qui correspondra aux 107 passagers\n",
    "    for i in range(107) :\n",
    "        P.append(random.choice(range(10))) #création des passagers,  remplissage de P par des nombres aléatoires entre 0 et 9\n",
    "    venus = 107 - P.count(0)     # venus compte le nombre d'elements de P differents de 0.\n",
    "    if venus > 100 :\n",
    "        surbook = surbook + 1    # surbook compte le nombre de vols n'ayant pas pu embarquer tous les passagers munis d'un billet\n",
    "\n",
    "# Affichage du pourcentage de vols surbookes.\n",
    "print (\"Dans\",(surbook / 10000) * 100,\"% des vols certaines personnes n ont pu embarquer\")\n",
    "-->"
   ]
  },
  {
   "cell_type": "markdown",
   "metadata": {},
   "source": [
    "Modifiez cet algorithme pour  obtenir le pourcentage de vols (sur 10000) pour lesquels certaines personnes n'ont pas pu embarqué dans le cas d'une surréservation concernant 110 personnes, puis 300 personnes  alors qu'il n'y a que 100 places disponibles. La probabilité qu'une personne ne vienne pas à l'embarquement étant de $\\dfrac{1}{10}$."
   ]
  },
  {
   "cell_type": "code",
   "execution_count": null,
   "metadata": {},
   "outputs": [],
   "source": [
    "# Tapez votre algorithme ci-dessous puis Shift + Entrée pour exécuter\n"
   ]
  },
  {
   "cell_type": "markdown",
   "metadata": {},
   "source": [
    "Double-cliquez **ici** pour voir la réponse\n",
    "\n",
    "<!--\n",
    "import random\n",
    "import math\n",
    "surbook = 0 \n",
    "for k in range(10000): \n",
    "    P = [] \n",
    "    for i in range(110) :\n",
    "        P.append(random.choice(range(0,10)))\n",
    "    venus = 110 - P.count(0)\n",
    "    if venus > 100 :\n",
    "        surbook = surbook + 1\n",
    "print (\"Dans\",(surbook / 10000) * 100,\"% des vols certaines personnes n ont pu embarquer\")\n",
    "\n",
    "surbook = 0 \n",
    "for k in range(10000): \n",
    "    P = [] \n",
    "    for i in range(300) :\n",
    "        P.append(random.choice(range(0,10)))\n",
    "    venus = 300 - P.count(0)\n",
    "    if venus > 100 :\n",
    "        surbook = surbook + 1\n",
    "print (\"Dans\",(surbook / 10000) * 100,\"% des vols certaines personnes n ont pu embarquer\")\n",
    "-->"
   ]
  },
  {
   "cell_type": "markdown",
   "metadata": {},
   "source": [
    "Modifiez cet algorithme pour  obtenir le pourcentage de vols (sur 10000) pour lesquels certaines personnes n'ont pas pu embarqué dans le cas d'une surréservation concernant 101 personnes alors qu'il n'y a que 100 places disponibles. La probabilité qu'une personne ne vienne pas à l'embarquement étant de $\\dfrac{1}{50}$."
   ]
  },
  {
   "cell_type": "code",
   "execution_count": null,
   "metadata": {},
   "outputs": [],
   "source": [
    "# Tapez votre algorithme ci-dessous puis Shift + Entrée pour exécuter\n"
   ]
  },
  {
   "cell_type": "markdown",
   "metadata": {},
   "source": [
    "Double-cliquez **ici** pour voir la réponse\n",
    "\n",
    "<!--\n",
    "surbook = 0 \n",
    "for k in range(10000): \n",
    "    P = [] \n",
    "    for i in range(101) :\n",
    "        P.append(random.choice(range(0,50)))\n",
    "    venus = 101 - P.count(0)\n",
    "    if venus > 100 :\n",
    "        surbook = surbook + 1\n",
    "print (\"Dans\",(surbook / 10000) * 100,\"% des vols certaines personnes n ont pu embarquer\")\n",
    "-->"
   ]
  },
  {
   "cell_type": "markdown",
   "metadata": {},
   "source": [
    " Commentez ces résultats."
   ]
  },
  {
   "cell_type": "code",
   "execution_count": null,
   "metadata": {},
   "outputs": [],
   "source": [
    "# tapez votre réponse ici"
   ]
  },
  {
   "cell_type": "markdown",
   "metadata": {},
   "source": [
    "Double-cliquez **ici** pour voir la réponse\n",
    "\n",
    "<!--\n",
    "Quand on augmente le nombre places vendues, la probabilité d'être surbooké augmente.\n",
    "Quand la probabilité d'avoir un absent diminue, on ne peut pas trop vendrede place en plus.\n",
    "C'est plutôt cohérent.\n",
    "-->"
   ]
  },
  {
   "cell_type": "markdown",
   "metadata": {},
   "source": [
    "# Loi binomiale"
   ]
  },
  {
   "cell_type": "markdown",
   "metadata": {},
   "source": [
    "On note $X$ la variable aléatoire comptant le nombre de passagers absents lors de l'embarquement dans notre cas de départ (celui au début de l'énoncé). Quelle est la loi de $X$? Donner ses paramètres."
   ]
  },
  {
   "cell_type": "markdown",
   "metadata": {},
   "source": [
    "On considère la commande ci-dessous permettant de calculer $P(X=50)$. Modifiez-la pour calculer $P(X=70)$"
   ]
  },
  {
   "cell_type": "code",
   "execution_count": null,
   "metadata": {},
   "outputs": [],
   "source": [
    "# Shift + Entrée pour exécuter\n",
    "import scipy.stats\n",
    "k = 50\n",
    "n = 107\n",
    "p = 0.1\n",
    "scipy.stats.binom.pmf(k,n,p)"
   ]
  },
  {
   "cell_type": "code",
   "execution_count": null,
   "metadata": {},
   "outputs": [],
   "source": [
    "# Tapez votre commande ci-dessous puis Shift + Entrée pour exécuter\n"
   ]
  },
  {
   "cell_type": "markdown",
   "metadata": {},
   "source": [
    "Double-cliquez **ici** pour voir la réponse\n",
    "\n",
    "<!--\n",
    "import scipy.stats\n",
    "k = 70\n",
    "n = 107\n",
    "p = 0.1\n",
    "scipy.stats.binom.pmf(k,n,p)\n",
    "1.5083622220616083e-43\n",
    "-->"
   ]
  },
  {
   "cell_type": "markdown",
   "metadata": {},
   "source": [
    "La commande ci-dessous permet de calculer $P(X\\leq k)$. Déterminer la probabilité que l'on soit dans une situation de surbooking et comparer avec le résultat obtenu dans la simulation."
   ]
  },
  {
   "cell_type": "code",
   "execution_count": null,
   "metadata": {},
   "outputs": [],
   "source": [
    "# Shift + Entrée pour exécuter\n",
    "import scipy.stats\n",
    "k = 50\n",
    "n = 107\n",
    "p = 0.1\n",
    "scipy.stats.binom.cdf(k,n,p)"
   ]
  },
  {
   "cell_type": "code",
   "execution_count": null,
   "metadata": {},
   "outputs": [],
   "source": [
    "# Tapez votre commande ci-dessous puis Shift + Entrée pour exécuter\n"
   ]
  },
  {
   "cell_type": "markdown",
   "metadata": {},
   "source": [
    "Double-cliquez **ici** pour voir la réponse\n",
    "\n",
    "<!--\n",
    "import scipy.stats\n",
    "k = 6\n",
    "n = 107\n",
    "p = 0.1\n",
    "scipy.stats.binom.cdf(k,n,p)\n",
    "\n",
    "# On trouve 8,06% ce qui proche du résultat obtenu par les simulations\n",
    "-->"
   ]
  },
  {
   "cell_type": "markdown",
   "metadata": {},
   "source": [
    "On considère l'algorithme suivant. Exécutez-le et dites ce qu'il permet d'afficher."
   ]
  },
  {
   "cell_type": "code",
   "execution_count": null,
   "metadata": {},
   "outputs": [],
   "source": [
    "# Shift + Entrée pour exécuter\n",
    "import scipy.stats\n",
    "k = 0\n",
    "n = 107\n",
    "p = 0.1\n",
    "while scipy.stats.binom.cdf(k,n,p) < 0.08 :\n",
    "    k = k + 1\n",
    "print(k)\n"
   ]
  },
  {
   "cell_type": "code",
   "execution_count": null,
   "metadata": {},
   "outputs": [],
   "source": [
    "# Tapez votre réponse ici"
   ]
  },
  {
   "cell_type": "markdown",
   "metadata": {},
   "source": [
    "Double-cliquez **ici** pour voir la réponse\n",
    "\n",
    "<!--\n",
    "Il affiche le plus grand entier tel que P(X<=k)<0.08\n",
    "-->"
   ]
  },
  {
   "cell_type": "markdown",
   "metadata": {},
   "source": [
    "Modifier l'algorithme pour obtenir la plus petite valeur de $k$ pour laquelle la probabilité d'avoir au plus $k$ absents est supérieure ou égale à 0.15. Même question avec 0.50."
   ]
  },
  {
   "cell_type": "code",
   "execution_count": null,
   "metadata": {},
   "outputs": [],
   "source": [
    "# Tapez votre algorithme ci-dessous puis Shift + Entrée pour exécuter\n"
   ]
  },
  {
   "cell_type": "markdown",
   "metadata": {},
   "source": [
    "Double-cliquez **ici** pour voir la réponse\n",
    "\n",
    "<!--\n",
    "import scipy.stats\n",
    "k = 0\n",
    "n = 107\n",
    "p = 0.1\n",
    "while scipy.stats.binom.cdf(k,n,p) < 0.15 :\n",
    "    k = k + 1\n",
    "print(k)\n",
    "\n",
    "import scipy.stats\n",
    "k = 0\n",
    "n = 107\n",
    "p = 0.1\n",
    "while scipy.stats.binom.cdf(k,n,p) < 0.50 :\n",
    "    k = k + 1\n",
    "print(k)\n",
    "\n",
    "On trouve 8 et 11 respectivement\n",
    "-->"
   ]
  },
  {
   "cell_type": "code",
   "execution_count": null,
   "metadata": {},
   "outputs": [],
   "source": []
  }
 ],
 "metadata": {
  "kernelspec": {
   "display_name": "Python 3",
   "language": "python",
   "name": "python3"
  },
  "language_info": {
   "codemirror_mode": {
    "name": "ipython",
    "version": 3
   },
   "file_extension": ".py",
   "mimetype": "text/x-python",
   "name": "python",
   "nbconvert_exporter": "python",
   "pygments_lexer": "ipython3",
   "version": "3.7.3"
  }
 },
 "nbformat": 4,
 "nbformat_minor": 2
}
