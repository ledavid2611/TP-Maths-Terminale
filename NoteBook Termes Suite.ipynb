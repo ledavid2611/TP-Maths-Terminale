{
 "cells": [
  {
   "cell_type": "markdown",
   "metadata": {},
   "source": [
    "# Termes d'une suite numérique"
   ]
  },
  {
   "cell_type": "markdown",
   "metadata": {},
   "source": [
    "## Cas d'une suite géométrique"
   ]
  },
  {
   "cell_type": "markdown",
   "metadata": {},
   "source": [
    "On considère la suite $(u_n)$ définie par $u_0= 3$ et, pour tout $n\\in\\mathbb{N}$, $u_{n+1}=2u_n$. Utilisez l'algorithme suivant pour calculer $u_1$, $u_2$, $u_3$ et $u_4$."
   ]
  },
  {
   "cell_type": "code",
   "execution_count": null,
   "metadata": {},
   "outputs": [],
   "source": [
    "# Shift + Entrée pour exécuter\n",
    "u = 3\n",
    "u = 2 * u\n",
    "print(u)"
   ]
  },
  {
   "cell_type": "markdown",
   "metadata": {},
   "source": [
    "Bien entendu, pour calculer $u_{7}$, il faudrait répéter l'opération un plusiers fois. On peut pour cela, utiliser une boucle dite ```for```. "
   ]
  },
  {
   "cell_type": "markdown",
   "metadata": {},
   "source": [
    "La commande ```range(n)``` permet de créer un objet de type ```range``` formé des entiers naturels de $0$ à $n-1$. Exécutez l'algorithme ci-dessous puis créez un algorithme permettant d'afficher les doubles des entiers de $0$ à $15$."
   ]
  },
  {
   "cell_type": "code",
   "execution_count": null,
   "metadata": {},
   "outputs": [],
   "source": [
    "# Shift + Entrée pour exécuter\n",
    "for i in range(10):\n",
    "    print(i)"
   ]
  },
  {
   "cell_type": "code",
   "execution_count": null,
   "metadata": {},
   "outputs": [],
   "source": [
    "# tapez votre algorithme ici puis Shift + Entrée pour exécuter\n"
   ]
  },
  {
   "cell_type": "markdown",
   "metadata": {},
   "source": [
    "Double-cliquez **ici** pour voir la réponse\n",
    "\n",
    "<!--\n",
    "for i in range(16):\n",
    "    print(2*i)\n",
    "\n",
    "0\n",
    "2\n",
    "4\n",
    "6\n",
    "8\n",
    "10\n",
    "12\n",
    "14\n",
    "16\n",
    "18\n",
    "20\n",
    "22\n",
    "24\n",
    "26\n",
    "28\n",
    "30\n",
    "-->"
   ]
  },
  {
   "cell_type": "markdown",
   "metadata": {},
   "source": [
    "Exécutez l'algorithme ci-dessous puis modifiez-le pour calculer $u_{7}$."
   ]
  },
  {
   "cell_type": "code",
   "execution_count": null,
   "metadata": {},
   "outputs": [],
   "source": [
    "# Shift + Entrée pour exécuter\n",
    "u = 3\n",
    "for i in range(2):\n",
    "    u = 2 * u\n",
    "    print(u)"
   ]
  },
  {
   "cell_type": "markdown",
   "metadata": {},
   "source": [
    "Double-cliquez **ici** pour voir la réponse\n",
    "\n",
    "<!--\n",
    "u = 3\n",
    "for i in range(7):\n",
    "    u = 2 * u\n",
    "    print(u)\n",
    "\n",
    "384\n",
    "-->"
   ]
  },
  {
   "cell_type": "markdown",
   "metadata": {},
   "source": [
    "Proposez ci-dessous à algorithme pour calculer les termes de rang $1$ à $7$ de la suites $(u_n)$ définie par $u_0=5$ et, pour tout $n\\in\\mathbb{N}$, $u_{n+1}=0,95 u_n$. (pensez  utiliser le point au lieu de la virgule pour les nombres décimaux)"
   ]
  },
  {
   "cell_type": "code",
   "execution_count": null,
   "metadata": {},
   "outputs": [],
   "source": [
    "# tapez votre algorithme ici puis Shift + Entrée pour exécuter\n"
   ]
  },
  {
   "cell_type": "markdown",
   "metadata": {},
   "source": [
    "Double-cliquez **ici** pour voir la réponse\n",
    "\n",
    "<!--\n",
    "u = 5\n",
    "for i in range(7):\n",
    "    u = 0.95 * u\n",
    "    print(u)\n",
    "\n",
    "4.75\n",
    "4.5125\n",
    "4.286875\n",
    "4.07253125\n",
    "3.8689046874999997\n",
    "3.6754594531249998\n",
    "3.4916864804687497\n",
    "-->"
   ]
  },
  {
   "cell_type": "markdown",
   "metadata": {},
   "source": [
    "## Cas d'une suite dépendant du rang $n$"
   ]
  },
  {
   "cell_type": "markdown",
   "metadata": {},
   "source": [
    "On considère la suite $(u_n)$ définie sur $\\mathbb{N}$ par $u_n=2n+3$. Proposez un algorithme permettant de calculer les 7 premiers termes de $(u_n)$."
   ]
  },
  {
   "cell_type": "code",
   "execution_count": null,
   "metadata": {},
   "outputs": [],
   "source": [
    "# tapez votre algorithme ici puis Shift + Entrée pour exécuter\n"
   ]
  },
  {
   "cell_type": "markdown",
   "metadata": {},
   "source": [
    "Double-cliquez **ici** pour voir la réponse\n",
    "\n",
    "<!--\n",
    "for n in range(7):\n",
    "    u = 2 * n +3\n",
    "    print(u)\n",
    "\n",
    "3\n",
    "5\n",
    "7\n",
    "9\n",
    "11\n",
    "13\n",
    "15\n",
    "-->"
   ]
  },
  {
   "cell_type": "markdown",
   "metadata": {},
   "source": [
    "Même question avec les suites définies sur $\\mathbb{N}$ par $v_n=n^2+3n-4$, $w_n=\\dfrac{2n+1}{4n+3}$. (utiliser ```**``` pour calculer une puissance, par exemple ```2**3 = 8```)"
   ]
  },
  {
   "cell_type": "code",
   "execution_count": null,
   "metadata": {},
   "outputs": [],
   "source": [
    "# tapez votre algorithme ici puis Shift + Entrée pour exécuter\n"
   ]
  },
  {
   "cell_type": "markdown",
   "metadata": {},
   "source": [
    "Double-cliquez **ici** pour voir la réponse\n",
    "\n",
    "<!--\n",
    "for n in range(7):\n",
    "    v = n**2 + 3 * n - 4\n",
    "    w = (2 * n + 1)/(4 * n + 3)\n",
    "    print(v,w)\n",
    "\n",
    "-4 0.3333333333333333\n",
    "0 0.42857142857142855\n",
    "6 0.45454545454545453\n",
    "14 0.4666666666666667\n",
    "24 0.47368421052631576\n",
    "36 0.4782608695652174\n",
    "50 0.48148148148148145\n",
    "-->"
   ]
  },
  {
   "cell_type": "markdown",
   "metadata": {},
   "source": [
    "## Liste des termes d'une suite"
   ]
  },
  {
   "cell_type": "markdown",
   "metadata": {},
   "source": [
    "On peut créer une liste formée des termes d'une suite au lieu d'afficher simplement ses termes."
   ]
  },
  {
   "cell_type": "code",
   "execution_count": null,
   "metadata": {},
   "outputs": [],
   "source": [
    "# Shift + Entrée pour exécuter\n",
    "L = [3, 5, 1] # Liste formée des nombres 3, 5 et 1\n",
    "print(L)"
   ]
  },
  {
   "cell_type": "markdown",
   "metadata": {},
   "source": [
    "Avec la méthode ```append``` on peut rajouter (par concaténation) des nombres à une liste. Exécutez l'exemple ci-dessous et à la liste précédente $L$ ajoutez les nombres 37 et 21."
   ]
  },
  {
   "cell_type": "code",
   "execution_count": null,
   "metadata": {},
   "outputs": [],
   "source": [
    "# tapez vos commandes ici puis Shift + Entrée pour exécuter\n",
    "L.append(12)\n",
    "L"
   ]
  },
  {
   "cell_type": "markdown",
   "metadata": {},
   "source": [
    "Double-cliquez **ici** pour voir la réponse\n",
    "\n",
    "<!--\n",
    "L = [3, 5, 1]\n",
    "L. append(37)\n",
    "L.append(21)\n",
    "print(L)\n",
    "-->"
   ]
  },
  {
   "cell_type": "markdown",
   "metadata": {},
   "source": [
    "On considère la suite $(u_n)$ définie par $u_0= 3$ et, pour tout $n\\in\\mathbb{N}$, $u_{n+1}=2u_n$. Modifiez l'algorithme suivant pour créer la liste formée des 20 premiers termes de la suite $(u_n)$."
   ]
  },
  {
   "cell_type": "code",
   "execution_count": null,
   "metadata": {},
   "outputs": [],
   "source": [
    "# Shift + Entrée pour exécuter\n",
    "u = 3\n",
    "U = [u]\n",
    "for i in range(19):\n",
    "    u = 2 * u\n",
    "    U.append(u)\n",
    "print(U)"
   ]
  },
  {
   "cell_type": "code",
   "execution_count": null,
   "metadata": {},
   "outputs": [],
   "source": [
    "# tapez votre algorithme ici puis Shift + Entrée pour exécuter\n"
   ]
  },
  {
   "cell_type": "markdown",
   "metadata": {},
   "source": [
    "Double-cliquez **ici** pour voir la réponse\n",
    "\n",
    "<!--\n",
    "u = 3\n",
    "U = [u]\n",
    "for i in range(19):\n",
    "    u = 2 * u\n",
    "    U.append(u)\n",
    "print(U)\n",
    "\n",
    "[3, 6, 12, 24, 48, 96, 192, 384, 768, 1536, 3072, 6144, 12288, 24576, 49152, 98304, 196608, 393216, 786432, 1572864 ]\n",
    "-->"
   ]
  },
  {
   "cell_type": "markdown",
   "metadata": {},
   "source": [
    "Mêmes questions pour les suites $(u_n)$, $(v_n)$ et $(w_n)$ respectivement définie par $u_0=5$ et, pour tout $n\\in\\mathbb{N}$, $u_{n+1}=0,95 u_n$, $v_n=n^2+3n-4$ et $w_n=\\dfrac{2n+1}{4n+3}$."
   ]
  },
  {
   "cell_type": "code",
   "execution_count": null,
   "metadata": {},
   "outputs": [],
   "source": [
    "# tapez votre algorithme ici puis Shift + Entrée pour exécuter\n"
   ]
  },
  {
   "cell_type": "markdown",
   "metadata": {},
   "source": [
    "Double-cliquez **ici** pour voir la réponse\n",
    "\n",
    "<!--\n",
    "u = 5\n",
    "U = [u]\n",
    "for i in range(6):\n",
    "    u = 0.95 * u    \n",
    "    U.append(u)\n",
    "print(U)\n",
    "\n",
    "V = []\n",
    "W = []\n",
    "for i in range(7):\n",
    "    V.append(i**2 + 3 * i - 4)\n",
    "    W.append((2 * i + 1) / (4 * i +3))\n",
    "print(V,W)\n",
    "\n",
    "[5, 4.75, 4.5125, 4.286875, 4.07253125, 3.8689046874999997, 3.6754594531249998]\n",
    "\n",
    "[-4, 0, 6, 14, 24, 36, 50] [0.3333333333333333, 0.42857142857142855, 0.45454545454545453, 0.4666666666666667, 0.47368421052631576, 0.4782608695652174, 0.48148148148148145]\n",
    "-->"
   ]
  },
  {
   "cell_type": "markdown",
   "metadata": {},
   "source": [
    "## Suites définies par récurrence à l'aide d'une fonction"
   ]
  },
  {
   "cell_type": "markdown",
   "metadata": {},
   "source": [
    "On considère la fonction $f$ définie sur $\\mathbb{R}$ par $f(x)=2x$. Il est possible de la construire en langage Python."
   ]
  },
  {
   "cell_type": "code",
   "execution_count": null,
   "metadata": {},
   "outputs": [],
   "source": [
    "# Shift + Entrée pour la charger\n",
    "def f(x):\n",
    "    return 2 * x"
   ]
  },
  {
   "cell_type": "markdown",
   "metadata": {},
   "source": [
    "Pour calculer des images par $f$ comme suit :"
   ]
  },
  {
   "cell_type": "code",
   "execution_count": null,
   "metadata": {},
   "outputs": [],
   "source": [
    "# Shift + Entrée pour exécuter\n",
    "f(1)"
   ]
  },
  {
   "cell_type": "markdown",
   "metadata": {},
   "source": [
    "On considère l'algorithme suivant. Donnez la suite dont il permet de calculer les termes."
   ]
  },
  {
   "cell_type": "code",
   "execution_count": null,
   "metadata": {},
   "outputs": [],
   "source": [
    "# Shift + Entrée pour exécuter\n",
    "from math  import * # permet d'utiliser certains fonctions mathématiques\n",
    "\n",
    "def f(x):\n",
    "    return 2 * x\n",
    "\n",
    "u = 3\n",
    "for i in range(6):\n",
    "    u = f(u)\n",
    "    print(u)"
   ]
  },
  {
   "cell_type": "markdown",
   "metadata": {},
   "source": [
    "On considère la suite $(u_n)$ définie par $u_0=1$ et, pout tout $n\\geq0$, $u_{n+1}=g(u_n)$ où $g$ est la fonction définie sur $\\mathbb{R}$ par $g(x)=x^2+x+1$. Tapez un algorithme permettant de calculer les termes de rang 1 à 5 de cette suite."
   ]
  },
  {
   "cell_type": "code",
   "execution_count": null,
   "metadata": {},
   "outputs": [],
   "source": [
    "# Tapez votre algorithme ici, Shift + Entrée pour exécuter\n"
   ]
  },
  {
   "cell_type": "markdown",
   "metadata": {},
   "source": [
    "Double-cliquez **ici** pour voir la réponse\n",
    "\n",
    "<!--\n",
    "from math  import *\n",
    "\n",
    "def g(x):\n",
    "    return x ** 2 + x + 1\n",
    "\n",
    "u = 1\n",
    "for i in range(5):\n",
    "    u = g(u)\n",
    "    print(u)\n",
    "\n",
    "3\n",
    "13\n",
    "183\n",
    "33673\n",
    "1133904603 \n",
    "-->"
   ]
  },
  {
   "cell_type": "markdown",
   "metadata": {},
   "source": [
    "Même question avec $g(x)=\\dfrac{2x+1}{x+3}$, puis avec $g(x)=\\sqrt{1+x}$. (utiliser la commande ```sqrt()``` pour la racine carée)"
   ]
  },
  {
   "cell_type": "code",
   "execution_count": null,
   "metadata": {},
   "outputs": [],
   "source": [
    "# Tapez votre algorithme ici, Shift + Entrée pour exécuter\n"
   ]
  },
  {
   "cell_type": "markdown",
   "metadata": {},
   "source": [
    "Double-cliquez **ici** pour voir la réponse\n",
    "\n",
    "<!--\n",
    "import math \n",
    "\n",
    "def g(x):\n",
    "    return (2 * x + 1) / (x + 3)\n",
    "\n",
    "u = 1\n",
    "for i in range(5):\n",
    "    u = g(u)\n",
    "    print(u)\n",
    "    \n",
    "def g(x):\n",
    "    return sqrt(1 + x)\n",
    "\n",
    "u = 1\n",
    "for i in range(5):\n",
    "    u = g(u)\n",
    "    print(u)\n",
    "\n",
    "0.75\n",
    "0.6666666666666666\n",
    "0.6363636363636364\n",
    "0.625\n",
    "0.6206896551724138\n",
    "1.4142135623730951\n",
    "1.5537739740300374\n",
    "1.5980531824786175\n",
    "1.6118477541252516\n",
    "1.616121206508117\n",
    "-->"
   ]
  },
  {
   "cell_type": "markdown",
   "metadata": {},
   "source": [
    "Même question avec les suites définies sur $\\mathbb{N}$ par $v_n=n^2+3n-4$, $w_n=\\dfrac{2n+1}{4n+3}$. "
   ]
  },
  {
   "cell_type": "code",
   "execution_count": null,
   "metadata": {},
   "outputs": [],
   "source": [
    "# Tapez votre algorithme ici, Shift + Entrée pour exécuter\n"
   ]
  },
  {
   "cell_type": "markdown",
   "metadata": {},
   "source": [
    "Double-cliquez **ici** pour voir la réponse\n",
    "\n",
    "<!--\n",
    "import math \n",
    "\n",
    "def g(x):\n",
    "    return x**2 + 3 * x - 4\n",
    "\n",
    "for i in range(5):\n",
    "    print(g(i + 1))\n",
    "    \n",
    "def g(x):\n",
    "    return (2 * x + 1) / (4 * x + 3)\n",
    "\n",
    "for i in range(5):\n",
    "    print(g(i + 1))\n",
    "\n",
    "0\n",
    "6\n",
    "14\n",
    "24\n",
    "36\n",
    "0.42857142857142855\n",
    "0.45454545454545453\n",
    "0.4666666666666667\n",
    "0.47368421052631576\n",
    "0.4782608695652174\n",
    "-->"
   ]
  },
  {
   "cell_type": "markdown",
   "metadata": {},
   "source": [
    "## Représentation graphique d'une suite"
   ]
  },
  {
   "cell_type": "markdown",
   "metadata": {},
   "source": [
    "La représentation graphique d'une suite $(u_n)$ est le nuage de points de coordonnées $(n;u_n)$."
   ]
  },
  {
   "cell_type": "markdown",
   "metadata": {},
   "source": [
    "Pour représenter une suite numérique en langage Python donne la liste des abscisses et la liste des ordonnées de ces points."
   ]
  },
  {
   "cell_type": "code",
   "execution_count": null,
   "metadata": {},
   "outputs": [],
   "source": [
    "# Shift + Entrée pour exécuter (éventuellement deux fois)\n",
    "import matplotlib.pyplot as plt\n",
    "\n",
    "abscisses = [0,1,2]\n",
    "ordonnées = [4,1,7]\n",
    "plt.scatter(abscisses,ordonnées)\n",
    "plt.show()"
   ]
  },
  {
   "cell_type": "markdown",
   "metadata": {},
   "source": [
    "On considère la suite $(u_n)$ définie par $u_0= 3$ et, pour tout $n\\in\\mathbb{N}$, $u_{n+1}=2u_n$. Utilisez l'algorithme suivant pour calculer $u1$, $u_2$, $u_3$ et $u_4$. On cherche à représenter les 20 premiers termes de cette suite. Lire et exécuter l'algorithme ci-dessous."
   ]
  },
  {
   "cell_type": "code",
   "execution_count": null,
   "metadata": {},
   "outputs": [],
   "source": [
    "# Shift + Entrée pour exécuter (éventuellement deux fois)\n",
    "from math import *\n",
    "import matplotlib.pyplot as plt\n",
    "\n",
    "abscisses = list(range(20)) # les abscisses forment la liste [0,1,2,...]\n",
    "\n",
    "def f(x):\n",
    "    return 2 * x\n",
    "\n",
    "u = 3\n",
    "ordonnées = [u]  # liste qui recevra les ordonnées\n",
    "for i in range(19):\n",
    "    u = f(u)\n",
    "    ordonnées.append(u)\n",
    "plt.scatter(abscisses,ordonnées) # création du nuage (\"scatter\")\n",
    "plt.show() # affichage  visuel"
   ]
  },
  {
   "cell_type": "markdown",
   "metadata": {},
   "source": [
    "De la même manière, représenter les 20 premiers termes des suites suivantes :\n",
    "1.  $(u_n)$ définie par $u_0= 1$ et, pour tout $n\\in\\mathbb{N}$, $u_{n+1}=\\sqrt{1 + u_n}$\n",
    "2. pour tout $n\\in\\mathbb{N}$, $v_n=\\dfrac{2n+1}{4n+3}$"
   ]
  },
  {
   "cell_type": "code",
   "execution_count": null,
   "metadata": {},
   "outputs": [],
   "source": [
    "# 1. Tapez votre algorithme ci-dessous puis Shift + Entrée pour exécuter\n"
   ]
  },
  {
   "cell_type": "markdown",
   "metadata": {},
   "source": [
    "Double-cliquez **ici** pour voir la réponse\n",
    "\n",
    "<!--\n",
    "from math import *\n",
    "import matplotlib.pyplot as plt\n",
    "\n",
    "abscisses = list(range(20)) # les abscisses forment la liste [0,1,2,...]\n",
    "\n",
    "def f(x):\n",
    "    return sqrt(1 + x)\n",
    "\n",
    "u = 1\n",
    "ordonnées = [u]  # liste qui recevra les ordonnées\n",
    "for i in range(19):\n",
    "    u = f(u)\n",
    "    ordonnées.append(u)\n",
    "plt.scatter(abscisses,ordonnées)\n",
    "plt.show()\n",
    "\n",
    "\n",
    "-->"
   ]
  },
  {
   "cell_type": "code",
   "execution_count": null,
   "metadata": {},
   "outputs": [],
   "source": [
    "# 1. Tapez votre algorithme ci-dessous puis Shift + Entrée pour exécuter\n",
    "\n"
   ]
  },
  {
   "cell_type": "markdown",
   "metadata": {},
   "source": [
    "Double-cliquez **ici** pour voir la réponse\n",
    "\n",
    "<!--\n",
    "from math import *\n",
    "import matplotlib.pyplot as plt\n",
    "\n",
    "abscisses = list(range(20)) # les abscisses forment la liste [0,1,2,...]\n",
    "\n",
    "def f(x):\n",
    "    return (2 * x + 1) / (4 * x + 3)\n",
    "\n",
    "ordonnées = []  # liste qui recevra les ordonnées\n",
    "for i in range(20):\n",
    "    ordonnées.append(f(i))\n",
    "plt.scatter(abscisses,ordonnées)\n",
    "plt.show()\n",
    "\n",
    "-->"
   ]
  },
  {
   "cell_type": "code",
   "execution_count": null,
   "metadata": {},
   "outputs": [],
   "source": []
  }
 ],
 "metadata": {
  "kernelspec": {
   "display_name": "Python 3",
   "language": "python",
   "name": "python3"
  },
  "language_info": {
   "codemirror_mode": {
    "name": "ipython",
    "version": 3
   },
   "file_extension": ".py",
   "mimetype": "text/x-python",
   "name": "python",
   "nbconvert_exporter": "python",
   "pygments_lexer": "ipython3",
   "version": "3.7.3"
  }
 },
 "nbformat": 4,
 "nbformat_minor": 2
}
