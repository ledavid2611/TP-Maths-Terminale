{
 "cells": [
  {
   "cell_type": "markdown",
   "metadata": {},
   "source": [
    "# Méthode de Monte-Carlo"
   ]
  },
  {
   "cell_type": "markdown",
   "metadata": {},
   "source": [
    "## Valeur approchée de $\\pi$"
   ]
  },
  {
   "cell_type": "markdown",
   "metadata": {},
   "source": [
    " Principe de la méthode~: On cherche à calculer une valeur approchée de l'aire $A$ du quart de disque de centre $O$ et de rayon $1$. On simule un grand nombre $n$ de points aléatoires dans le carré  dont les sommets ont pour coordonnées $(0;0)$, $(1;0)$, $(1;1)$ et $(0;1)$. \n",
    " \n",
    "![alt text](NoteBook_monte_carlo_carre.png)\n",
    " \n",
    "On note $C$ l'aire de ce carré et $N$ le nombre de points à l'intérieur du  quart de disque. On a la formule suivante :\n",
    "$$\\frac{\\text{Nombre de points dans le disque}}{\\text{Nombre total de points}}\\approx \\frac{\\text{Aire du disque}}{\\text{Aire Totale}}$$\n",
    "Calculer une valeur approchée de $\\dfrac{\\text{Aire du quar de disque}}{\\text{Aire Totale}}$."
   ]
  },
  {
   "cell_type": "markdown",
   "metadata": {},
   "source": [
    "Quelle condition le point $M$ de coordonnées $(x;y)$ appartient-il à l'intérieur du quart de disque unité~?"
   ]
  },
  {
   "cell_type": "code",
   "execution_count": null,
   "metadata": {},
   "outputs": [],
   "source": [
    "# tapez votre réponse ici :\n"
   ]
  },
  {
   "cell_type": "markdown",
   "metadata": {},
   "source": [
    "Double-cliquez **ici** pour voir la réponse\n",
    "\n",
    "<!--\n",
    "# x^2 + y^2 < 1\n",
    "-->"
   ]
  },
  {
   "cell_type": "markdown",
   "metadata": {},
   "source": [
    "Construction d'une suite de points aléatoires (i.e dont les coordonnées sont des nombres aléatoires de $[0;1]$) dans le carré unité."
   ]
  },
  {
   "cell_type": "code",
   "execution_count": null,
   "metadata": {},
   "outputs": [],
   "source": [
    "# Shift + Entrée pour exécuter\n",
    "import random as rand\n",
    "\n",
    "abscisses = [] # liste vide qu contiendra les abscisses\n",
    "\n",
    "for i in range(10):\n",
    "    x = rand.uniform(0,1) # création d'un nombre aléatoire x\n",
    "    abscisses.append(x) # insertion de x dans la liste \"abscisses\"\n",
    "\n",
    "print(abscisses)"
   ]
  },
  {
   "cell_type": "markdown",
   "metadata": {},
   "source": [
    "Complétez l'algorithme ci-dessus pour aussi créer les ordonnées. (à stocker dans la liste nommée ```ordonnées```)"
   ]
  },
  {
   "cell_type": "code",
   "execution_count": null,
   "metadata": {},
   "outputs": [],
   "source": [
    "# Tapez votre algorithme puis Shift + Entrée pour exécuter\n"
   ]
  },
  {
   "cell_type": "markdown",
   "metadata": {},
   "source": [
    "Double-cliquez **ici** pour voir la réponse\n",
    "\n",
    "<!--\n",
    "import random as rand\n",
    "\n",
    "abscisses = []\n",
    "ordonnées = []\n",
    "for i in range(10):\n",
    "    x = rand.uniform(0,1)\n",
    "    abscisses.append(x)\n",
    "    y = rand.uniform(0,1)\n",
    "    ordonnées.append(y)\n",
    "    \n",
    "print(abscisses)\n",
    "print(ordonnées)\n",
    "-->"
   ]
  },
  {
   "cell_type": "markdown",
   "metadata": {},
   "source": [
    "On peut représenter ces points aléatoires comme-suit :"
   ]
  },
  {
   "cell_type": "code",
   "execution_count": null,
   "metadata": {},
   "outputs": [],
   "source": [
    "# Shift + Entrée pour exécuter\n",
    "import random as rand\n",
    "import matplotlib.pyplot as plt\n",
    "\n",
    "abscisses = []\n",
    "ordonnées = []\n",
    "\n",
    "for i in range(10):\n",
    "    x = rand.uniform(0,1)\n",
    "    abscisses.append(x)\n",
    "    y = rand.uniform(0,1)\n",
    "    ordonnées.append(y)\n",
    "\n",
    "plt.scatter(abscisses,ordonnées) # scatter donne le nuage de points"
   ]
  },
  {
   "cell_type": "markdown",
   "metadata": {},
   "source": [
    "On considère la commande ci-dessous. Que permet-elle de faire ?"
   ]
  },
  {
   "cell_type": "code",
   "execution_count": null,
   "metadata": {},
   "outputs": [],
   "source": [
    "# Shift + Entrée pour exécuter\n",
    "x = 3\n",
    "y = 1\n",
    "x**2 + y **2 < 1"
   ]
  },
  {
   "cell_type": "markdown",
   "metadata": {},
   "source": [
    "Double-cliquez **ici** pour voir la réponse\n",
    "\n",
    "<!--\n",
    "Elle permet de tester si la distance du point M(x,y) est strictement inférieure à 1\n",
    "C'est-à-dire si M(x,y) appartient au quart de disque\n",
    "-->"
   ]
  },
  {
   "cell_type": "markdown",
   "metadata": {},
   "source": [
    "Dire ce qu'affiche les commandes\n",
    "```\n",
    "x = 0.5\n",
    "y = 0.2\n",
    "x**2 + y**2 < 1\n",
    "```"
   ]
  },
  {
   "cell_type": "code",
   "execution_count": null,
   "metadata": {},
   "outputs": [],
   "source": [
    "# Tapez votre algorithme puis Shift + Entrée pour exécuter\n"
   ]
  },
  {
   "cell_type": "markdown",
   "metadata": {},
   "source": [
    "Double-cliquez **ici** pour voir la réponse\n",
    "\n",
    "<!--\n",
    "x = 0.5\n",
    "y = 0.2\n",
    "x**2 + y**2 < 1\n",
    "# True\n",
    "-->"
   ]
  },
  {
   "cell_type": "raw",
   "metadata": {},
   "source": [
    "Pour appeler la -ième composante d'une liste $L$ de taille $n$ (qui sont numérotées de $0$  $n-1$), on utilise la commande $L[i]$. Afficher la composante de rang $5$ de la liste ci-dessous: "
   ]
  },
  {
   "cell_type": "code",
   "execution_count": null,
   "metadata": {},
   "outputs": [],
   "source": [
    "# Tapez votre commande puis Shift + Entrée pour exécuter\n",
    "L=[2, 4, 34, 3, 21, 45, 13, 18, 1 ]\n"
   ]
  },
  {
   "cell_type": "markdown",
   "metadata": {},
   "source": [
    "Double-cliquez **ici** pour voir la réponse\n",
    "\n",
    "<!--\n",
    "L[5]\n",
    "45\n",
    "-->"
   ]
  },
  {
   "cell_type": "markdown",
   "metadata": {},
   "source": [
    "Double-cliquez **ici** pour voir la réponse\n",
    "\n",
    "<!--\n",
    "\n",
    "-->"
   ]
  },
  {
   "cell_type": "markdown",
   "metadata": {},
   "source": [
    "Exécutez la commande ci-dessous puis modifiez-la pour afficher les carrés des nombres de la liste $L$."
   ]
  },
  {
   "cell_type": "code",
   "execution_count": null,
   "metadata": {},
   "outputs": [],
   "source": [
    "# Tapez votre commande puis Shift + Entrée pour exécuter\n",
    "L=[2, 4, 34, 3, 21, 45, 13, 18, 1 ]\n",
    "\n",
    "n = len(L) # len() donnne la longueur\n",
    "for i in range(n):\n",
    "    print(L[i])\n"
   ]
  },
  {
   "cell_type": "markdown",
   "metadata": {},
   "source": [
    "Double-cliquez **ici** pour voir la réponse\n",
    "\n",
    "<!--\n",
    "    \n",
    "n = len(L) # len() donnne la longueur\n",
    "for i in range(n):\n",
    "    print(L[i] ** 2)\n",
    "-->"
   ]
  },
  {
   "cell_type": "markdown",
   "metadata": {},
   "source": [
    "Commentez l'algorithme ci-dessous qui permet de compter les points aléatoires qui appartiennent au quart de disque. (utilisez ```# mon commentaire```au bout de la ligne à commenter)"
   ]
  },
  {
   "cell_type": "code",
   "execution_count": null,
   "metadata": {},
   "outputs": [],
   "source": [
    "# Shift + Entrée pour exécuter\n",
    "import random as rand #\n",
    "import matplotlib.pyplot as plt \n",
    "\n",
    "n = 10 \n",
    "\n",
    "abscisses = [] \n",
    "ordonnées = [] \n",
    "\n",
    "for i in range(n):\n",
    "    x = rand.uniform(0,1) \n",
    "    abscisses.append(x) \n",
    "    y = rand.uniform(0,1)\n",
    "    ordonnées.append(y)\n",
    "\n",
    "compteur = 0 \n",
    "for i in range(n):\n",
    "    if abscisses[i]**2 + ordonnées[i]**2 < 1: \n",
    "        compteur = compteur + 1 \n",
    "\n",
    "print(compteur) \n",
    "plt.scatter(abscisses,ordonnées)"
   ]
  },
  {
   "cell_type": "markdown",
   "metadata": {},
   "source": [
    "Double-cliquez **ici** pour voir la réponse\n",
    "\n",
    "<!--\n",
    "# Shift + Entrée pour exécuter\n",
    "import random as rand # package qui permet de créer des nombres aléatoires\n",
    "import matplotlib.pyplot as plt # package qui permet de créer des graphiques\n",
    "\n",
    "n = 10 # nombre de points à créer\n",
    "\n",
    "abscisses = [] # liste vide qui contiendra les abscisses\n",
    "ordonnées = [] #liste vide qui contiendra les ordonnées\n",
    "\n",
    "for i in range(n):\n",
    "    x = rand.uniform(0,1) # x est un nombre aléatoire\n",
    "    abscisses.append(x) # on le place dans la liste \"abscisses\"\n",
    "    y = rand.uniform(0,1) # y  est un nombre aléatoire\n",
    "    ordonnées.append(y) # on le place ddans la liste \"ordonnées\"\n",
    "\n",
    "compteur = 0 # compteur du nombre de points dans le quart de disque\n",
    "for i in range(n):\n",
    "    if abscisses[i]**2 + ordonnées[i]**2 < 1: # teste si la distance  du i-ème point à l'origine est < 1\n",
    "        compteur = compteur + 1 # si oui, compteur augmente de 1\n",
    "\n",
    "print(compteur) # affiche compteur\n",
    "plt.scatter(abscisses,ordonnées) # représente les points\n",
    "-->"
   ]
  },
  {
   "cell_type": "markdown",
   "metadata": {},
   "source": [
    "Complétez l'algorithme pour qu'il affiche la fréquence de points tombés dans le quart de disque. Testez-le pour $n=100$, $n=1000$."
   ]
  },
  {
   "cell_type": "code",
   "execution_count": null,
   "metadata": {},
   "outputs": [],
   "source": [
    "# Tapez votre algorithme ci-dessous puis Shift + Entrée pour exécuter\n"
   ]
  },
  {
   "cell_type": "markdown",
   "metadata": {},
   "source": [
    "Double-cliquez **ici** pour voir la réponse\n",
    "\n",
    "<!--\n",
    "\n",
    "import random as rand\n",
    "import matplotlib.pyplot as plt\n",
    "\n",
    "n = 1000\n",
    "\n",
    "abscisses = []\n",
    "ordonnées = []\n",
    "\n",
    "for i in range(n):\n",
    "    x = rand.uniform(0,1)\n",
    "    abscisses.append(x)\n",
    "    y = rand.uniform(0,1)\n",
    "    ordonnées.append(y)\n",
    "\n",
    "compteur = 0\n",
    "for i in range(n):\n",
    "    if abscisses[i]**2 + ordonnées[i]**2 < 1:\n",
    "        compteur = compteur + 1\n",
    "\n",
    "print(\"La fréquence de points dans le quart de disque est \",compteur / n)\n",
    "plt.scatter(abscisses,ordonnées)\n",
    "-->"
   ]
  },
  {
   "cell_type": "markdown",
   "metadata": {},
   "source": [
    "On peut améliorer la visualisation en traçant le quart de cercle."
   ]
  },
  {
   "cell_type": "code",
   "execution_count": null,
   "metadata": {},
   "outputs": [],
   "source": [
    "# Shift + Entrée pour exécuter\n",
    "\n",
    "import random as rand\n",
    "import matplotlib.pyplot as plt\n",
    "import numpy as np\n",
    "\n",
    "n = 1000 \n",
    "\n",
    "abscisses = []\n",
    "ordonnées = []\n",
    "\n",
    "for i in range(n):\n",
    "    x = rand.uniform(0,1)\n",
    "    abscisses.append(x)\n",
    "    y = rand.uniform(0,1)\n",
    "    ordonnées.append(y)\n",
    "\n",
    "compteur = 0\n",
    "for i in range(n):\n",
    "    if abscisses[i]**2 + ordonnées[i]**2 < 1:\n",
    "        compteur = compteur + 1\n",
    "\n",
    "Xcercle = np.arange(0,1,1/100)\n",
    "Ycercle = [1 - x ** 2 for x in Xcercle]\n",
    "        \n",
    "print(\"La fréquence de points dans le quart de disque est \",compteur / n)\n",
    "\n",
    "plt.scatter(abscisses,ordonnées)\n",
    "plt.scatter(Xcercle,Ycercle)"
   ]
  },
  {
   "cell_type": "markdown",
   "metadata": {},
   "source": [
    "On sait que le quart de disque a pour aire $\\dfrac{\\pi}{4} \\approx 0,785$. On a donc une bonne méthode d'approximation de $\\pi/4$ et donc de $\\pi$."
   ]
  },
  {
   "cell_type": "markdown",
   "metadata": {},
   "source": [
    "**Exercice** : En vous inspirant de l'algorithme ci-dessus, calculez par la méthode de Monte-Carlo une valeur approchée de l'aire de la partie du plan délimitée par l'axe des abscisses, les droites d'équations respectives $x=0$, $x=1$ et la courbe d'équation $y=(x-0,5)^2$\n",
    "\n",
    "![alt text](NoteBook_monte_carlo_courbe.png)\n",
    "\n"
   ]
  },
  {
   "cell_type": "code",
   "execution_count": null,
   "metadata": {},
   "outputs": [],
   "source": [
    "# Tapez votre algorithme ci-dessous puis Shift + Entrée pour exécuter\n"
   ]
  },
  {
   "cell_type": "markdown",
   "metadata": {},
   "source": [
    "Double-cliquez **ici** pour voir la réponse\n",
    "\n",
    "<!--\n",
    "\n",
    "import random as rand\n",
    "import matplotlib.pyplot as plt\n",
    "import numpy as np\n",
    "\n",
    "def f(x):\n",
    "    return (x - 0.5)**2 \n",
    "\n",
    "n = 1000 \n",
    "\n",
    "abscisses = []\n",
    "ordonnées = []\n",
    "\n",
    "for i in range(n):\n",
    "    x = rand.uniform(0,1)\n",
    "    abscisses.append(x)\n",
    "    y = rand.uniform(0,1)\n",
    "    ordonnées.append(y)\n",
    "\n",
    "compteur = 0\n",
    "for i in range(n):\n",
    "    if ordonnées[i] < f(abscisses[i]):\n",
    "        compteur = compteur + 1\n",
    "\n",
    "Xcourbe = np.arange(0,1,1/100)\n",
    "Ycourbe = [(x - 0.5)**2 for x in Xcourbe]\n",
    "        \n",
    "print(\"La fréquence de points dans le quart de disque est \",compteur / n)\n",
    "\n",
    "plt.scatter(abscisses,ordonnées)\n",
    "plt.scatter(Xcourbe,Ycourbe)\n",
    "-->"
   ]
  },
  {
   "cell_type": "markdown",
   "metadata": {},
   "source": [
    "## Lois à densité, approximation d'une probabilité par la méthode de Monte-Carlo"
   ]
  },
  {
   "cell_type": "markdown",
   "metadata": {},
   "source": [
    "Soit $X$ une variable aléatoire continue de densité $f$ définie sur $|0;1]$ par $f(x)=3x^2$. On sait que $\\displaystyle\\int_s^tf(x)dx=1$. À quelle aire correspond cette intégrale? Dans quel rectangle (donnez ses dimensions) cette surface est-elle inscrite? Proposez, en vous inspirant de ce qui précède, un algorithme qui utilise la méthode de Monte-Carlo pour retrouver cette valeur de façon approchée."
   ]
  },
  {
   "cell_type": "code",
   "execution_count": null,
   "metadata": {},
   "outputs": [],
   "source": [
    "# Tapez votre réponse ici\n",
    "\n",
    "\n",
    "\n",
    "# Tapez votre algorithme ci-dessous puis Shift + Entrée pour exécuter\n",
    "\n"
   ]
  },
  {
   "cell_type": "markdown",
   "metadata": {},
   "source": [
    "Double-cliquez **ici** pour voir la réponse\n",
    "\n",
    "<!--\n",
    "# Il s'agit de l'aire de la partie du plan délimitée par\n",
    "# L'axe des abscisses, les droites d'équations resp. x=0 et x=1 et\n",
    "# la courbe représentative\n",
    "\n",
    "import random as rand\n",
    "import matplotlib.pyplot as plt\n",
    "import numpy as np\n",
    "from math import *\n",
    "\n",
    "def f(x):\n",
    "    return 3 * x ** 2 \n",
    "\n",
    "n = 500 \n",
    "\n",
    "abscisses = []\n",
    "ordonnées = []\n",
    "AireRectangle = 1 * 3\n",
    "for i in range(n):\n",
    "    x = rand.uniform(0,1)\n",
    "    y = rand.uniform(0,3)\n",
    "    abscisses.append(x)\n",
    "    ordonnées.append(y)\n",
    "    compteur = 0\n",
    "for i in range(n):\n",
    "    if ordonnées[i] < f(abscisses[i]):\n",
    "        compteur = compteur + 1\n",
    "\n",
    "Xcourbe = np.arange(0,1,1/100)\n",
    "Ycourbe = [f(x) for x in Xcourbe]\n",
    "\n",
    "plt.scatter(abscisses,ordonnées)\n",
    "plt.scatter(Xcourbe,Ycourbe)\n",
    "plt.show()\n",
    "print(\"Cette aire vaut environ\", compteur / n * AireRectangle)\n",
    "\n",
    "-->"
   ]
  },
  {
   "cell_type": "markdown",
   "metadata": {},
   "source": [
    "Approximation par la méthode de Monte-Carlo, calcul de $P(s\\leq X\\leq t)$ : \n"
   ]
  },
  {
   "cell_type": "markdown",
   "metadata": {},
   "source": [
    "Soit $X$ une variable aléatoire continue de densité $f$ définie sur $|0;1]$ par $f(x)=3x^2$. On rappelle que pour tous $0\\leq s\\leq t\\leq 1$, $P(s\\leq X \\leq t) = \\int_s^tf(x)dx$. À quelle aire correspond cette intégrale? Dans quel rectangle cette surface est-elle inscrite?"
   ]
  },
  {
   "cell_type": "code",
   "execution_count": null,
   "metadata": {},
   "outputs": [],
   "source": [
    "# Tapez votre réponse ici\n"
   ]
  },
  {
   "cell_type": "markdown",
   "metadata": {},
   "source": [
    "Double-cliquez **ici** pour voir la réponse\n",
    "\n",
    "<!--\n",
    "# Il s'agit de l'aire de la partie du plan délimitée par\n",
    "# L'axe des abscisses, les droites d'équations resp. x=s et x=t et\n",
    "# la courbe représentative\n",
    "-->"
   ]
  },
  {
   "cell_type": "markdown",
   "metadata": {},
   "source": [
    "En vous inspirant des algorithmes précédents, déterminer une fonction ```Probabilité(s,t)``` permettant de calculer $P(s\\leq X\\leq t)$ pour $0\\leq s\\leq t\\leq 1$."
   ]
  },
  {
   "cell_type": "code",
   "execution_count": null,
   "metadata": {},
   "outputs": [],
   "source": [
    "# Tapez votre algorithme ici puis Shift + Entrée pour exécuter\n",
    "\n"
   ]
  },
  {
   "cell_type": "markdown",
   "metadata": {},
   "source": [
    "Double-cliquez **ici** pour voir la réponse\n",
    "\n",
    "<!--\n",
    "import random as rand\n",
    "import matplotlib.pyplot as plt\n",
    "import numpy as np\n",
    "from math import *\n",
    "\n",
    "def f(x):\n",
    "    return 3 * x ** 2 \n",
    "\n",
    "n = 10000 \n",
    "\n",
    "def Probabilité(s,t):\n",
    "    abscisses = []\n",
    "    ordonnées = []\n",
    "    AireRectangle = (t-s) * max(f(t),f(s))\n",
    "    for i in range(n):\n",
    "        x = rand.uniform(s,t)\n",
    "        y = rand.uniform(0, max(f(s),f(t)))\n",
    "        abscisses.append(x)\n",
    "        ordonnées.append(y)\n",
    "    compteur = 0\n",
    "    for i in range(n):\n",
    "        if ordonnées[i] < f(abscisses[i]) :\n",
    "            compteur = compteur + 1\n",
    "    Xcourbe = np.arange(s,t,1/100)\n",
    "    Ycourbe = [f(x) for x in Xcourbe]\n",
    "    plt.scatter(abscisses,ordonnées)\n",
    "    plt.scatter(Xcourbe,Ycourbe)\n",
    "    plt.show()\n",
    "    print(\"P( s <= X <= t) vaut environ\", compteur / n * AireRectangle)\n",
    "\n",
    "Probabilité(0,0.5)\n",
    "-->"
   ]
  },
  {
   "cell_type": "markdown",
   "metadata": {},
   "source": [
    "**Exercice** : Appliquez cet algorithme pour calculer :\n",
    "1.  $P(1 \\leq X \\leq 3)$ si $X$ sui la loi exponentielle de parmètre $\\lambda = 0.2$ ; \n",
    "2. $P(0 \\leq X \\leq 2)$ si $X$ suit la loi $\\mathcal{N}(0,1)$\n",
    "\n",
    "Comparez avec les valeurs données par la calculatrice.\n",
    "\n",
    "Remarque : hélas, cet algorithme ne peut pas calculer ces probabilités lorsque la densité n'est pas monotone sur l'intervalle $[s;t]$. Bien entendu, on pourrait aisément améliorer cet algorithme pour le faire."
   ]
  },
  {
   "cell_type": "code",
   "execution_count": null,
   "metadata": {},
   "outputs": [],
   "source": [
    "# 1. Tapez votre programme ci-dessous puis Shift + Entrée pour exécuter\n"
   ]
  },
  {
   "cell_type": "markdown",
   "metadata": {},
   "source": [
    "Double-cliquez **ici** pour voir la réponse\n",
    "\n",
    "<!--\n",
    "import random as rand\n",
    "import matplotlib.pyplot as plt\n",
    "import numpy as np\n",
    "from math import *\n",
    "\n",
    "def f(x):\n",
    "    return 0.2 * exp(-0.2 * x )\n",
    "\n",
    "n = 10000 \n",
    "Probabilité(1 , 3)\n",
    "-->"
   ]
  },
  {
   "cell_type": "code",
   "execution_count": null,
   "metadata": {},
   "outputs": [],
   "source": [
    "# 2. Tapez votre programme ci-dessous puis Shift + Entrée pour exécuter\n"
   ]
  },
  {
   "cell_type": "markdown",
   "metadata": {},
   "source": [
    "Double-cliquez **ici** pour voir la réponse\n",
    "\n",
    "<!--\n",
    "import random as rand\n",
    "import matplotlib.pyplot as plt\n",
    "import numpy as np\n",
    "from math import *\n",
    "\n",
    "def f(x):\n",
    "    return exp( - x ** 2 / 2 ) / sqrt(2 * pi)\n",
    "\n",
    "n = 10000 \n",
    "Probabilité(0 , 2)\n",
    "-->"
   ]
  },
  {
   "cell_type": "code",
   "execution_count": null,
   "metadata": {},
   "outputs": [],
   "source": []
  }
 ],
 "metadata": {
  "kernelspec": {
   "display_name": "Python 3",
   "language": "python",
   "name": "python3"
  },
  "language_info": {
   "codemirror_mode": {
    "name": "ipython",
    "version": 3
   },
   "file_extension": ".py",
   "mimetype": "text/x-python",
   "name": "python",
   "nbconvert_exporter": "python",
   "pygments_lexer": "ipython3",
   "version": "3.7.3"
  }
 },
 "nbformat": 4,
 "nbformat_minor": 2
}
