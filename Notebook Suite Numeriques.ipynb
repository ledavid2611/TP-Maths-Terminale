{
 "cells": [
  {
   "cell_type": "markdown",
   "metadata": {},
   "source": [
    "# Suites numériques"
   ]
  },
  {
   "cell_type": "markdown",
   "metadata": {},
   "source": [
    "## Evolution d'une population"
   ]
  },
  {
   "cell_type": "markdown",
   "metadata": {},
   "source": [
    "On s'intéresse à l'évolution d'une population d'oiseaux sur une île. Les relevés donnent les chiffres suivants :\n",
    "\n",
    "<table font-size:xx-small style=\"width:10%\">\n",
    "    <tr>\n",
    "        <th>Année</th>\n",
    "        <th>Effectif</th>\n",
    "    </tr>\n",
    "    <tr>\n",
    "        <td>2000</td>\n",
    "        <td>3000</td> \n",
    "    </tr>\n",
    "        <tr>\n",
    "        <td>2001</td>\n",
    "        <td>2850</td> \n",
    "    </tr>\n",
    "    <tr>\n",
    "        <td>2002</td>\n",
    "        <td>2708</td> \n",
    "    </tr>\n",
    "    <tr>\n",
    "        <td>2003</td>\n",
    "        <td>2571</td> \n",
    "    </tr>\n",
    "    <tr>\n",
    "        <td>2004</td>\n",
    "        <td>2446</td> \n",
    "    </tr>\n",
    "    <tr>\n",
    "        <td>2005</td>\n",
    "        <td>2321</td> \n",
    "</table>"
   ]
  },
  {
   "cell_type": "markdown",
   "metadata": {},
   "source": [
    "Des scientifiques proposent de modéliser l'évolution de cette population par une baisse annuelle de $5$\\%. Cette hypothèse est-elle cohérente ? Justifier."
   ]
  },
  {
   "cell_type": "code",
   "execution_count": null,
   "metadata": {},
   "outputs": [],
   "source": [
    "# Tapez vos calculs ci-dessous puis Shift + Entrée por exécuter\n"
   ]
  },
  {
   "cell_type": "markdown",
   "metadata": {},
   "source": [
    "Double-cliquez **ici** pour voir la réponse.\n",
    "\n",
    "\n",
    "<!--Les calculs suivants donnent les résultats correspondants à une baisse annuelle de 5%, ils coïcincident à peu près au relevés effectués.\n",
    "3000*0.95\n",
    "2850*0.95\n",
    "2707.5*0.95\n",
    "2707*0.95\n",
    "2571*0.95\n",
    "2442*0.95\n",
    "\n",
    "2850.0\n",
    "2707.5\n",
    "2572.125\n",
    "2442.45\n",
    "2319.9\n",
    "\n",
    "-->"
   ]
  },
  {
   "cell_type": "markdown",
   "metadata": {},
   "source": [
    "Définir une suite $(u_n)$ permettant de modéliser cette population."
   ]
  },
  {
   "cell_type": "code",
   "execution_count": null,
   "metadata": {},
   "outputs": [],
   "source": [
    "# Tapez votre réponse ci-dessous :\n"
   ]
  },
  {
   "cell_type": "markdown",
   "metadata": {},
   "source": [
    "Double-cliquez **ici** pour voir la réponse.\n",
    "\n",
    "<!--\n",
    "La suite $(u_n)$ définie par $u_0=3000$ et $u_{n+1}=0,95\\times u_n$, qui est géométrique de raison $q=0,95$ et de terme initial $u_0=3000$.\n",
    "-->"
   ]
  },
  {
   "cell_type": "markdown",
   "metadata": {},
   "source": [
    "On considère l'algorithme ci-dessous. Faire tourner cet algorithme dans le logiciel.\n",
    "Que permet de calculer cet algorithme?\n",
    "\n",
    "```\n",
    "\tu=3000\n",
    "\tfor i in range(10):\n",
    "\t   u=0.95*u\n",
    "\t   print(u)\n",
    "```"
   ]
  },
  {
   "cell_type": "code",
   "execution_count": null,
   "metadata": {},
   "outputs": [],
   "source": [
    "# Tapez votre programme ci-dessous puis Shift + Entrée pour exécuter\n"
   ]
  },
  {
   "cell_type": "markdown",
   "metadata": {},
   "source": [
    "Double-cliquez **ici** pour voir la réponse.\n",
    "\n",
    "<!-- L'algorithme permet de calculer les termes de rangs 1 à 10 :\n",
    "2850.0\n",
    "2707.5\n",
    "2572.125\n",
    "2443.5187499999997\n",
    "2321.3428124999996\n",
    "2205.2756718749997\n",
    "2095.0118882812494\n",
    "1990.2612938671869\n",
    "1890.7482291738274\n",
    "1796.210817715136\n",
    "-->"
   ]
  },
  {
   "cell_type": "markdown",
   "metadata": {},
   "source": [
    "On considère la fonction ci-dessous. Chargez cette fonction.\n",
    "Que permet de calculer cet algorithme?\n",
    "\n",
    "```\n",
    "\tdef Pop(n):\n",
    "\t   u=3000\n",
    "\t   for i in range(n):\n",
    "\t      u=0.95*u\n",
    "\t   return u\n",
    "```"
   ]
  },
  {
   "cell_type": "code",
   "execution_count": null,
   "metadata": {},
   "outputs": [],
   "source": [
    "# Tapez votre fonction ci-dessous puis Shift + Entrée pour exécuter\n",
    "# Tapez Pop(1) puis Shift + Entrée pour voir le résultat\n",
    "# de même avec Pop(2) etc\n"
   ]
  },
  {
   "cell_type": "markdown",
   "metadata": {},
   "source": [
    "Double-cliquez **ici** pour voir la réponse.\n",
    "\n",
    "<!--\n",
    "def Pop(n):\n",
    "   u=3000\n",
    "   for i in range(n):\n",
    "      u=0.95*u\n",
    "   return u\n",
    "Pop(1)\n",
    "-->"
   ]
  },
  {
   "cell_type": "markdown",
   "metadata": {},
   "source": [
    " On considère la fonction ci-dessous. Chargez cette fonction. Que permet de calculer cet algorithme~? Déterminer la valeur de $n$ pour $k=2000$. Retrouver ce résultat par une méthode mathématique.\n",
    " \n",
    " ```\n",
    " def Seuil(k):\n",
    "    n=0\n",
    "    u=3000\n",
    "    while u>=k:\n",
    "        u=0.95*u\n",
    "        n=n+1\n",
    "    return n\n",
    " \n",
    " ```"
   ]
  },
  {
   "cell_type": "code",
   "execution_count": null,
   "metadata": {},
   "outputs": [],
   "source": [
    "# Tapez votre fonction ci-dessous puis Shift + Entrée pour exécuter\n"
   ]
  },
  {
   "cell_type": "markdown",
   "metadata": {},
   "source": [
    "Double-cliquez **ici** pour voir la réponse.\n",
    "\n",
    "<!--\n",
    "def Seuil(k):\n",
    "   n=0\n",
    "   u=3000\n",
    "   while u>=k:\n",
    "      u=0.95*u\n",
    "      n=n+1\n",
    "   return n\n",
    "Seuil(2000)\n",
    "8\n",
    "\n",
    "Cette fonction permet de déterminer le premier rang à partir duquel les termes de la suite $(u_n$ sont strictement inférieurs à k\n",
    "-->"
   ]
  },
  {
   "cell_type": "markdown",
   "metadata": {},
   "source": [
    "On décide de réintroduire $100$ oiseaux par an pour compenser la baisse de $5\\%$. Proposer des algorithmes ```Pop2(n)``` puis ```Seuil2(k)```. Quelle conjecture peut-on faire sur l'évolution de cette population?"
   ]
  },
  {
   "cell_type": "code",
   "execution_count": null,
   "metadata": {},
   "outputs": [],
   "source": [
    "# Tapez votre fonction Pop2 ci-dessous puis Shift + Entrée pour exécuter\n",
    "\n"
   ]
  },
  {
   "cell_type": "code",
   "execution_count": null,
   "metadata": {},
   "outputs": [],
   "source": [
    "# Tapez votre fonction Pop2 ci-dessous puis Shift + Entrée pour exécuter\n",
    "\n"
   ]
  },
  {
   "cell_type": "markdown",
   "metadata": {},
   "source": [
    "Double-cliquez **ici** pour voir la réponse.\n",
    "\n",
    "<!--\n",
    "def Pop2(n):\n",
    "    u = 3000\n",
    "    for i in range(n):\n",
    "        u = u * 0.95 + 100\n",
    "    return u\n",
    "Pop2(1000)\n",
    "2000.0000000000005\n",
    "\n",
    "def Seuil2(k):\n",
    "   n = 0\n",
    "   u = 3000\n",
    "   while u >= k:\n",
    "      u = 0.95 * u + 100\n",
    "      n = n + 1\n",
    "   return n\n",
    "Seuil2(2100)\n",
    "45\n",
    "\n",
    "\n",
    "Il semble que lorsque $n$ devient arbitrairement grand, $u_n$ se reapproche de 2000\n",
    "-->"
   ]
  },
  {
   "cell_type": "markdown",
   "metadata": {},
   "source": [
    "Quelle suite $(s_n)$ permet de modéliser cette évolution~?"
   ]
  },
  {
   "cell_type": "code",
   "execution_count": null,
   "metadata": {},
   "outputs": [],
   "source": [
    "# Tapez votre réponse ci-dessous \n",
    "# ( _ pour un indice du genre u_n et ^ pour un exposant du genre $2^n)"
   ]
  },
  {
   "cell_type": "markdown",
   "metadata": {},
   "source": [
    "Double-cliquez **ici** pour voir la réponse.\n",
    "\n",
    "<!--\n",
    "La suite $s_n)$ définie par $s_0 = 3000$ et $s_{n+1} = s_n \\times 0.95 + 100$ permet de modéliser cette situation.\n",
    "-->"
   ]
  },
  {
   "cell_type": "markdown",
   "metadata": {},
   "source": [
    "Démontrer que la suite $(r_n)$ définie par $r_n=s_n-2000$ est géométrique et donner sa raison $q$ et son terme initial $r_0$."
   ]
  },
  {
   "cell_type": "code",
   "execution_count": null,
   "metadata": {},
   "outputs": [],
   "source": [
    "# Tapez votre réponse ci-dessous\n",
    "# ( _ pour un indice du genre u_n et ^ pour un exposant du genre $2^n)"
   ]
  },
  {
   "cell_type": "markdown",
   "metadata": {},
   "source": [
    "Double-cliquez **ici** pour voir la réponse.\n",
    "\n",
    "<!--\n",
    "$r_{n+1}=s_{n+1}-2000= (...) = 0,95 \\times s_n$\n",
    "-->"
   ]
  },
  {
   "cell_type": "markdown",
   "metadata": {},
   "source": [
    "Exprimer $r_n$ puis $s_n$ en fonction de $n$. En déduire la limite de $(s_n)$."
   ]
  },
  {
   "cell_type": "code",
   "execution_count": null,
   "metadata": {},
   "outputs": [],
   "source": [
    "# Tapez votre réponse ci-dessous\n",
    "# ( _ pour un indice du genre u_n et ^ pour un exposant du genre $2^n)"
   ]
  },
  {
   "cell_type": "markdown",
   "metadata": {},
   "source": [
    "Double-cliquez **ici** pour voir la réponse.\n",
    "\n",
    "<!--\n",
    "$r_n=r_0 _times 0,95^n$ et $s_n= 2000+1000 \\times 0,95^n$\n",
    "\n",
    "Puisque $-1< 0,95<1$, alors $,5^n$ converge vers $0$ et donc $s_n$ converge vers $2000$.\n",
    "-->"
   ]
  },
  {
   "cell_type": "markdown",
   "metadata": {},
   "source": [
    "La mesure prise sera-t-elle fructueuse dans ce modèle~?"
   ]
  },
  {
   "cell_type": "markdown",
   "metadata": {},
   "source": [
    "Double-cliquez **ici** pour voir la réponse.\n",
    "\n",
    "<!--\n",
    "La mesure sera efficace dans le sens où au fil des années la population se stablisera autour de $2000$.\n",
    "-->"
   ]
  },
  {
   "cell_type": "markdown",
   "metadata": {},
   "source": [
    "## Suite de Syracuse"
   ]
  },
  {
   "cell_type": "markdown",
   "metadata": {},
   "source": [
    " Dans la console, tester la commande ```3 != 1```, puis ```5 != 1``` et ```1 != 1```. Que permet-elle de faire?."
   ]
  },
  {
   "cell_type": "code",
   "execution_count": null,
   "metadata": {},
   "outputs": [],
   "source": [
    "# Tapez vos commande ci-dessous puis Shift  Entrée pour exécuter\n"
   ]
  },
  {
   "cell_type": "markdown",
   "metadata": {},
   "source": [
    "Double-cliquez **ici** pour voir la réponse.\n",
    "\n",
    "<!--\n",
    " Tester si un nombre est égal à 1 ou non. La commande renvoie le booléen True si le nombre est distinct de 1 et False sinon.\n",
    "3 != 1\n",
    "True\n",
    "-->"
   ]
  },
  {
   "cell_type": "markdown",
   "metadata": {},
   "source": [
    "La commande ```%``` permet d'afficher le reste dans une division euclidienne. Quel est le reste de la division euclidienne  de $20$ par $7$ ? Qu'affiche  ```n%2``` si $n$ est pair? et si $n$ est impair ? "
   ]
  },
  {
   "cell_type": "code",
   "execution_count": null,
   "metadata": {},
   "outputs": [],
   "source": [
    "# Tapez vos commande ci-dessous puis Shift  Entrée pour exécuter\n"
   ]
  },
  {
   "cell_type": "markdown",
   "metadata": {},
   "source": [
    "Double-cliquez **ici** pour voir la réponse.\n",
    "\n",
    "<!--\n",
    "20 % 7\n",
    "6\n",
    "\n",
    "14%2\n",
    "0\n",
    "\n",
    "15%1\n",
    "1\n",
    "\n",
    "n%2 affiche 0 si n est pair et 1 sinon\n",
    "\n",
    "-->"
   ]
  },
  {
   "cell_type": "markdown",
   "metadata": {},
   "source": [
    "À tout $n$ entier naturel ($n \\geq 1$), on applique l'algorithme suivant: \n",
    "\n",
    "```\n",
    "def syracuse(n):\n",
    "    while n!=1:\n",
    "        if n%2==0:\n",
    "            n=n/2\n",
    "        else:\n",
    "            n=3*n+1\n",
    "    return n\n",
    "```"
   ]
  },
  {
   "cell_type": "markdown",
   "metadata": {},
   "source": [
    "\n",
    "Programmer cet algorithme. Le tester pour quelques valeurs de $n\\in\\mathbb{N }^*$. Que fournit-il comme affichage ? ."
   ]
  },
  {
   "cell_type": "code",
   "execution_count": null,
   "metadata": {},
   "outputs": [],
   "source": [
    "# Tapez votre votre fonction ci-dessous, Shift + Entrée pour exécuter\n"
   ]
  },
  {
   "cell_type": "markdown",
   "metadata": {},
   "source": [
    "Double-cliquez **ici** pour voir la réponse.\n",
    "\n",
    "<!--\n",
    "def syracuse(n):\n",
    "   while n!=1:\n",
    "      if n%2==0:\n",
    "         n=n/2\n",
    "      else:\n",
    "         n=3*n+1\n",
    "   return n\n",
    "syracuse(10)\n",
    "1\n",
    "-->"
   ]
  },
  {
   "cell_type": "markdown",
   "metadata": {},
   "source": [
    "Lorsque, pour l'entier $n\\geq1$, l'algorithme aboutit à $1$,\n",
    "on appelle \"suite de Syracuse associée à $n$\" la suite (finie) des entiers rencontrés pour passer de $n$ à $1$.\n",
    "On note $\\mathscr{L}(n)$ le nombre d'entiers de cette suite\n",
    "finie. $\\mathscr{L}(n)$ est la longueur de la suite de Syracuse\n",
    "associée à $n$.\n",
    "\n",
    "Exemple : pour $n = 5$ on obtient successivement les\n",
    "nombres $5$ ; $16$ ; $8$ ; $4$ ; $2$ ; $1$ et donc $\\mathscr{L}(5) = 6$.\n",
    "\n",
    "Vérifier cette affirmation par le calcul."
   ]
  },
  {
   "cell_type": "code",
   "execution_count": null,
   "metadata": {},
   "outputs": [],
   "source": [
    "# Utilisez cet espace comme brouillon\n"
   ]
  },
  {
   "cell_type": "markdown",
   "metadata": {},
   "source": [
    "Modifier l'algorithme précédent pour qu'il affiche tous les termes de la suite ainsi que sa longueur. (On utilisera la commande ```print(n)``` ainsi qu'une variable ```L```, servant de compteur, qui augmente de 1 à chaque étape)"
   ]
  },
  {
   "cell_type": "code",
   "execution_count": null,
   "metadata": {},
   "outputs": [],
   "source": [
    "# Tapez votre algorithme ci-dessous, testez-le, Shift + Entrée pour exévuter\n",
    "\n"
   ]
  },
  {
   "cell_type": "markdown",
   "metadata": {},
   "source": [
    "Double-cliquez **ici** pour voir la réponse.\n",
    "\n",
    "<!--\n",
    "def syracuse(n):\n",
    "    L=1\n",
    "    print(n)\n",
    "    while n!=1:\n",
    "        if n%2==0:\n",
    "            n=n/2\n",
    "        else:\n",
    "            n=3*n+1\n",
    "        print(n)\n",
    "        L=L+1\n",
    "    return L\n",
    "\n",
    "syracuse(5)\n",
    "\n",
    "5\n",
    "16\n",
    "8.0\n",
    "4.0\n",
    "2.0\n",
    "1.0\n",
    "\n",
    "6\n",
    "-->"
   ]
  },
  {
   "cell_type": "markdown",
   "metadata": {},
   "source": [
    "Préciser les valeurs de $\\mathscr{L}(26)$ et $\\mathscr{L}(27)$."
   ]
  },
  {
   "cell_type": "markdown",
   "metadata": {},
   "source": [
    "Double-cliquez **ici** pour voir la réponse.\n",
    "\n",
    "<!--\n",
    "11 et 112 respectivement\n",
    "-->"
   ]
  },
  {
   "cell_type": "markdown",
   "metadata": {},
   "source": [
    "Étude de quelques résultats particuliers relatifs aux longueurs des suites $\\mathscr{L}(n)$ pour $n$\n",
    "entier naturel."
   ]
  },
  {
   "cell_type": "markdown",
   "metadata": {},
   "source": [
    "Quelle conjecture peut-on faire sur la longueur des suites de Syracuse associées aux nombres de la forme $2^p$\n",
    "\tpour $p$ entier naturel non nul ?"
   ]
  },
  {
   "cell_type": "code",
   "execution_count": null,
   "metadata": {},
   "outputs": [],
   "source": [
    "# Tapez votre réponse ici :"
   ]
  },
  {
   "cell_type": "markdown",
   "metadata": {},
   "source": [
    "Double-cliquez **ici** pour voir la réponse.\n",
    "\n",
    "<!--\n",
    "Elle vaut $p+1$\n",
    "-->"
   ]
  },
  {
   "cell_type": "markdown",
   "metadata": {},
   "source": [
    "Démontrer cette conjecture."
   ]
  },
  {
   "cell_type": "code",
   "execution_count": null,
   "metadata": {},
   "outputs": [],
   "source": [
    "# Utilisez une feuille papier pour écrire si vous ne maîtrisez pas le traitement de texte scientifique"
   ]
  },
  {
   "cell_type": "markdown",
   "metadata": {},
   "source": [
    "Double-cliquez **ici** pour voir la réponse.\n",
    "\n",
    "<!--\n",
    "Par récurrence sur $p$.\n",
    "-->"
   ]
  },
  {
   "cell_type": "markdown",
   "metadata": {},
   "source": [
    "Que remarque-t-on quant aux suites de Syracuse associées aux nombres de la forme\n",
    "$8k + 4$ et $8k + 5$ pour $k \\in \\mathbb{N}*$ ?"
   ]
  },
  {
   "cell_type": "code",
   "execution_count": null,
   "metadata": {},
   "outputs": [],
   "source": [
    "# Faire vos tests ci-dessous"
   ]
  },
  {
   "cell_type": "markdown",
   "metadata": {},
   "source": [
    "Double-cliquez **ici** pour voir la réponse.\n",
    "\n",
    "<!--\n",
    "Les suites de Syracuse associées aux nombres de la forme $8k + 4$ et $8k + 5$ sont égales à partir du rang $3$, le terme de rang $4$ commun étant $6k+4$.\n",
    "-->"
   ]
  },
  {
   "cell_type": "markdown",
   "metadata": {},
   "source": [
    "Démontrer la conjecture émise précédemment"
   ]
  },
  {
   "cell_type": "markdown",
   "metadata": {},
   "source": [
    "Double-cliquez **ici** pour voir la réponse.\n",
    "\n",
    "<!--\n",
    "Calculer chaque terme pour chacune des deux suites.\n",
    "\n",
    "*$8k+4$, $4k+2$, $2k+1$, $6k+4$\n",
    "*$8k+5$, $24k+16$, $12k+8$, $6k+4$\n",
    "\n",
    "\n",
    "-->"
   ]
  },
  {
   "cell_type": "markdown",
   "metadata": {},
   "source": [
    "Bonus : Démontrer que si le reste de la division euclidienne de $n$ par $4$ est $0$, $1$ ou $2$ alors l'algorithme amène nécessairement, au bout d'un certain nombre d'étapes, à un entier strictement\n",
    "inférieur à $n$."
   ]
  },
  {
   "cell_type": "markdown",
   "metadata": {},
   "source": [
    "Double-cliquez **ici** pour voir la réponse.\n",
    "\n",
    "<!--\n",
    "Calculer chaque terme pour chacune des deux suites.\n",
    "\n",
    "* $4k$, $2k<4k$.\n",
    "* $4k+1$, $12k+4$, $6k+2$, $3k+1<4k+1$.\n",
    "* $4k+2$, $2k+1$.\n",
    "* vrai aussi pour $4k+3$. \n",
    "\n",
    "\n",
    "-->"
   ]
  },
  {
   "cell_type": "markdown",
   "metadata": {},
   "source": [
    "*La conjecture de Syracuse* affirme que pour tout entier non nul n le processus aboutit à $1$. La\n",
    "longueur de la suite quant à elle n'est pas, à l'heure actuelle prévisible, en toute généralité."
   ]
  },
  {
   "cell_type": "code",
   "execution_count": null,
   "metadata": {},
   "outputs": [],
   "source": []
  }
 ],
 "metadata": {
  "kernelspec": {
   "display_name": "Python 3",
   "language": "python",
   "name": "python3"
  },
  "language_info": {
   "codemirror_mode": {
    "name": "ipython",
    "version": 3
   },
   "file_extension": ".py",
   "mimetype": "text/x-python",
   "name": "python",
   "nbconvert_exporter": "python",
   "pygments_lexer": "ipython3",
   "version": "3.7.3"
  }
 },
 "nbformat": 4,
 "nbformat_minor": 2
}
